{
 "cells": [
  {
   "cell_type": "markdown",
   "metadata": {},
   "source": [
    "# Packages and Global variables"
   ]
  },
  {
   "cell_type": "code",
   "execution_count": 1,
   "metadata": {
    "tags": []
   },
   "outputs": [],
   "source": [
    "import numpy as np\n",
    "import pandas as pd\n",
    "from tqdm.notebook import tqdm\n",
    "import matplotlib.pyplot as plt\n",
    "from matplotlib.ticker import MaxNLocator\n",
    "from matplotlib.ticker import PercentFormatter\n",
    "import seaborn as sns\n",
    "import numpy as np\n",
    "import itertools\n",
    "from collections import defaultdict\n",
    "import time\n",
    "from torchsummary import summary\n",
    "\n",
    "import torch\n",
    "import torch.nn as nn\n",
    "import torch.optim as optim\n",
    "import torch.utils.data\n",
    "import torch.nn.functional as F\n",
    "import torchvision\n",
    "from PIL import Image, ImageFile\n",
    "from torch.utils.data import Dataset, DataLoader, random_split, SubsetRandomSampler, WeightedRandomSampler\n",
    "from torchvision import datasets, transforms, utils\n",
    "import snntorch as snn\n",
    "from snntorch import surrogate\n",
    "from snntorch import spikegen\n",
    "import snntorch.spikeplot as splt\n",
    "import math\n",
    "\n",
    "torch.manual_seed(42)\n",
    "np.random.seed(42)\n",
    "\n",
    "#print(torch.cuda.is_available())"
   ]
  },
  {
   "cell_type": "code",
   "execution_count": 2,
   "metadata": {
    "tags": []
   },
   "outputs": [],
   "source": [
    "#data_path='/data/mnist'\n",
    "data_path = '\\\\Users\\\\liamh\\\\OneDrive - University of Strathclyde\\\\University'\n",
    "dtype = torch.float\n",
    "device = torch.device(\"cuda\") if torch.cuda.is_available() else torch.device(\"cpu\")\n",
    "\n",
    "# Training Parameters\n",
    "batch_size=128\n",
    "\n",
    "# Network Architecture\n",
    "num_hidden = 350\n",
    "num_outputs = 10\n",
    "num_steps = 25\n",
    "\n",
    "# Convolutional layer parameters \n",
    "conv_kernel_size = 3\n",
    "conv_stride_length = 1 \n",
    "conv_padding_size = 1\n",
    "mp_kernel_size = 3 \n",
    "mp_stride_length = 2 \n",
    "mp_padding_size = 0\n",
    "\n",
    "# Temporal Dynamics\n",
    "time_step = 1e-3\n",
    "tau_mem = 2e-2\n",
    "beta = float(np.exp(-time_step/tau_mem))\n",
    "\n",
    "# Loss Function\n",
    "loss_fn = nn.MSELoss()"
   ]
  },
  {
   "cell_type": "markdown",
   "metadata": {},
   "source": [
    "# Functions"
   ]
  },
  {
   "cell_type": "code",
   "execution_count": 3,
   "metadata": {
    "tags": []
   },
   "outputs": [],
   "source": [
    "def load_in_data(res, ratio = 1):\n",
    "    transform = transforms.Compose([\n",
    "        transforms.Resize((res, res)), #Resize images to 28*28\n",
    "        transforms.Grayscale(), # Make sure image is grayscale\n",
    "        transforms.ToTensor()]) # change each image array to a tensor which automatically scales inputs to [0,1]\n",
    "\n",
    "    mnist_train = datasets.MNIST(data_path, train=True, download=True, transform=transform) # Download training set and apply transformations. \n",
    "    mnist_test = datasets.MNIST(data_path, train=False, download=True, transform=transform) # same for test set\n",
    "\n",
    "    train_len = int(len(mnist_train)/ratio)\n",
    "    dummy_len = len(mnist_train) - train_len\n",
    "    train_dataset, _ = random_split(mnist_train, (train_len, dummy_len), generator=torch.Generator().manual_seed(42))\n",
    "    \n",
    "    # Create DataLoaders\n",
    "    train_loader = DataLoader(train_dataset, batch_size=batch_size, shuffle=True, drop_last=True) # Load the data into the DataLoader so it's passed through the model, shuffled in batches. \n",
    "    test_loader = DataLoader(mnist_test, batch_size=batch_size, shuffle=True, drop_last=True)\n",
    "    \n",
    "    return train_loader, test_loader\n",
    "\n",
    "def output_formula(input_size, filter_size, padding, stride):\n",
    "    formula = math.floor(((((input_size - filter_size + 2*padding)/stride) + 1)))\n",
    "    \n",
    "    return formula \n",
    "\n",
    "def all_output_sizes(res, conv_filter = 3, conv_padding = 1, conv_stride = 1, mp_filter = 3, mp_padding = 0, mp_stride = 2):\n",
    "    \n",
    "    conv1 = output_formula(res, conv_filter, conv_padding, conv_stride)   # Output size from applying conv1 to input \n",
    "    mp1 = output_formula(conv1, mp_filter, mp_padding, mp_stride)         # Output size from applying max pooling 1 to conv1 \n",
    "    \n",
    "    conv2 = output_formula(mp1, conv_filter, conv_padding, conv_stride)   # Output size from applying conv2 to max pooling 1\n",
    "    conv3 = output_formula(conv2, conv_filter, conv_padding, conv_stride) # Output size from applying conv3 to conv 2\n",
    "    mp2 = output_formula(conv3, mp_filter, mp_padding, mp_stride)         # Output size from applying max pooling 2 to conv3\n",
    "    \n",
    "    conv4 = output_formula(mp2, conv_filter, conv_padding, conv_stride)   # Output size from applying conv 4 to max pooling 2\n",
    "    conv5 = output_formula(conv4, conv_filter, conv_padding, conv_stride) # Output size from applying conv5 to conv 4\n",
    "    mp3 = output_formula(conv5, mp_filter, mp_padding, mp_stride)         # Output size from applying max pooling 3 to conv 5\n",
    "    \n",
    "    outputs_I_need = [mp1, conv2, mp2, conv4, mp3]\n",
    "    \n",
    "    return outputs_I_need\n",
    "\n",
    "def plot_training_history(history, res, loss_upper = 1.05, acc_lower = -0.05, acc_higher = 105):\n",
    "    fig, (ax1, ax2) = plt.subplots(1, 2, figsize=(18, 6))\n",
    "    \n",
    "    \n",
    "    ax1.plot(history['avg_train_loss'], label='train loss',marker = 'o')\n",
    "    ax1.plot(history['avg_valid_loss'], label='validation loss',marker = 'o')\n",
    "\n",
    "    ax1.xaxis.set_major_locator(MaxNLocator(integer=True))\n",
    "    ax1.set_ylim([-0.05, loss_upper])\n",
    "    ax1.legend()\n",
    "    ax1.set_ylabel('Loss',fontsize = 16)\n",
    "    ax1.set_xlabel('Epoch',fontsize = 16)\n",
    "    \n",
    "    ax2.plot(history['train_accuracy'], label='train accuracy',marker = 'o')\n",
    "    ax2.plot(history['valid_accuracy'], label='validation accuracy',marker = 'o')\n",
    "\n",
    "    ax2.xaxis.set_major_locator(MaxNLocator(integer=True))\n",
    "    ax2.set_ylim([acc_lower, acc_higher])\n",
    "\n",
    "    ax2.legend()\n",
    "\n",
    "    ax2.set_ylabel('Accuracy',fontsize = 16)\n",
    "    ax2.yaxis.set_major_formatter(PercentFormatter(100))\n",
    "    ax2.set_xlabel('Epoch',fontsize = 16)\n",
    "    fig.suptitle(f'Training history ({res}*{res})',fontsize = 20)\n",
    "    plt.show()\n",
    "\n",
    "def store_best_results(history):\n",
    "    # Want to take the last entry from each output(best results) and store them all in a Dataframe\n",
    "    placeholder = []\n",
    "    placeholder.append(history['avg_train_loss'][-1])\n",
    "    placeholder.append(history['train_accuracy'][-1])\n",
    "    placeholder.append(history['avg_valid_loss'][-1])\n",
    "    placeholder.append(history['valid_accuracy'][-1])\n",
    "    \n",
    "    return placeholder\n",
    "\n",
    "def put_results_in_df(output):\n",
    "    df = pd.DataFrame()\n",
    "    df['avg_train_loss'] = output['avg_train_loss']\n",
    "    df['train_accuracy'] = output['train_accuracy']\n",
    "    df['avg_valid_loss'] = output['avg_valid_loss']\n",
    "    df['valid_accuracy'] = output['valid_accuracy']\n",
    "    \n",
    "    return df"
   ]
  },
  {
   "cell_type": "markdown",
   "metadata": {},
   "source": [
    "# Spiking CNN and training Loop"
   ]
  },
  {
   "cell_type": "code",
   "execution_count": 5,
   "metadata": {},
   "outputs": [],
   "source": [
    "# Define Network\n",
    "class Latency_LIF_Snn_Net(nn.Module):\n",
    "    def __init__(self,res,spike_grad):\n",
    "        super().__init__()\n",
    "\n",
    "        # Initialize layers\n",
    "        self.fc1 = nn.Linear(res*res, num_hidden)\n",
    "        self.lif1 = snn.Leaky(beta=beta, spike_grad=spike_grad)\n",
    "        self.fc2 = nn.Linear(num_hidden, num_hidden)\n",
    "        self.lif2 = snn.Leaky(beta=beta, spike_grad=spike_grad)\n",
    "        self.fc3 = nn.Linear(num_hidden, num_outputs)\n",
    "        self.lif3 = snn.Leaky(beta=beta, spike_grad=spike_grad)\n",
    "\n",
    "    def forward(self, x):\n",
    "        # Initialize hidden states + output spike at t=0\n",
    "        spk1, mem1 = self.lif1.init_leaky(batch_size, num_hidden)\n",
    "        spk2, mem2 = self.lif2.init_leaky(batch_size, num_hidden)\n",
    "        spk3, mem3 = self.lif3.init_leaky(batch_size, num_outputs)\n",
    "\n",
    "        spk3_rec = []\n",
    "        mem3_rec = []\n",
    "\n",
    "        for step in range(num_steps):\n",
    "            cur1 = self.fc1(x[step])\n",
    "            spk1,  mem1 = self.lif1(cur1, mem1)\n",
    "            cur2 = self.fc2(spk1)\n",
    "            spk2, mem2 = self.lif2(cur2, mem2)\n",
    "            cur3 = self.fc3(spk2)\n",
    "            spk3, mem3 = self.lif3(cur3, mem3)\n",
    "\n",
    "            spk3_rec.append(spk3)\n",
    "            mem3_rec.append(mem3)\n",
    "\n",
    "        return torch.stack(spk3_rec, dim=0), torch.stack(mem3_rec, dim=0)"
   ]
  },
  {
   "cell_type": "code",
   "execution_count": 6,
   "metadata": {
    "tags": []
   },
   "outputs": [],
   "source": [
    "def train_rate_spiking_mse_model(resolution, train_loader, valid_loader, model, epochs ,device = device, verbose = True):\n",
    "    start_time = time.time()\n",
    "    print('Starting Training')\n",
    "    history = defaultdict(list)\n",
    "    optimizer = torch.optim.Adam(model.parameters(), lr=5e-4, betas=(0.9, 0.999)) # Just an Adam Optimiser\n",
    "    scheduler = torch.optim.lr_scheduler.MultiStepLR(optimizer, milestones=[50], gamma=0.5)\n",
    "    \n",
    "    # Training variables\n",
    "    train_size = len(train_loader.dataset)\n",
    "    train_num_batches = len(train_loader)\n",
    "    \n",
    "    # validation variables\n",
    "    valid_size = len(valid_loader.dataset)\n",
    "    valid_num_batches = len(valid_loader)\n",
    "    \n",
    "    \n",
    "    for t in range(epochs):\n",
    "        \n",
    "        avg_train_loss = 0\n",
    "        correct = 0\n",
    "        avg_valid_loss, valid_correct = 0, 0\n",
    "        model.train()\n",
    "        for batch, (data_it, targets_it) in enumerate(train_loader):\n",
    "            data_it = data_it.to(device)\n",
    "            targets_it = targets_it.to(device)\n",
    "\n",
    "            optimizer.zero_grad()\n",
    "            \n",
    "            # Compute prediction and loss\n",
    "            spike_data = spikegen.latency(data_it, num_steps=num_steps,tau = 5, threshold=0.01, normalize=True, linear=True)\n",
    "            spk_targets_it = torch.clamp(spikegen.to_one_hot(targets_it, 10) * 1.05, min=0.05)\n",
    "            \n",
    "            spk_rec, mem_rec = model(spike_data.view(num_steps,batch_size, -1)) \n",
    "            \n",
    "            # Sum loss over time steps: BPTT\n",
    "            loss = torch.zeros((1), dtype=dtype, device=device)   # creates a 1D tensor to store total loss over time. \n",
    "            for step in range(num_steps):\n",
    "                loss += loss_fn(mem_rec[step], spk_targets_it) # Loss at each time step is added to give total loss.\n",
    "\n",
    "            avg_train_loss += loss\n",
    "            \n",
    "            _, predicted = spk_rec.sum(dim=0).max(1) \n",
    "            correct += (predicted == targets_it).type(torch.float).sum().item()\n",
    "\n",
    "            # Backpropagation\n",
    "            loss.backward()\n",
    "            optimizer.step()\n",
    "\n",
    "        avg_train_loss /= train_num_batches\n",
    "        accuracy = correct / train_size * 100      \n",
    "        history['avg_train_loss'].append(avg_train_loss.item())\n",
    "        history['train_accuracy'].append(accuracy)\n",
    "        \n",
    "        if verbose == True: \n",
    "            print(f\"Epoch {t+1} of {epochs}\")\n",
    "            print('-' * 15)\n",
    "            print(f\"Training Results, Epoch {t+1}:\\n Accuracy: {(accuracy):>0.1f}%, Avg loss: {avg_train_loss.item():>8f} \\n\")\n",
    "\n",
    "              ###################### VALIDATION LOOP ##############################\n",
    "        model.eval()\n",
    "        with torch.no_grad():\n",
    "            for valid_data_it, valid_targets_it in valid_loader:\n",
    "                valid_data_it = valid_data_it.to(device)\n",
    "                valid_targets_it = valid_targets_it.to(device)\n",
    "                \n",
    "                valid_spike_data = spikegen.latency(valid_data_it, num_steps=num_steps,tau = 5, threshold=0.01, normalize=True, linear=True)\n",
    "                valid_spk_targets_it = torch.clamp(spikegen.to_one_hot(targets_it, 10) * 1.05, min=0.05)\n",
    "\n",
    "                valid_spk_rec, valid_mem_rec = model(valid_spike_data.view(num_steps,batch_size, -1)) \n",
    "                \n",
    "                valid_loss = torch.zeros((1),dtype = dtype, device = device)    \n",
    "                for step in range(num_steps):\n",
    "                    valid_loss += loss_fn(valid_mem_rec[step], valid_spk_targets_it)\n",
    "                \n",
    "                avg_valid_loss += valid_loss\n",
    "                \n",
    "                \n",
    "                _, valid_predicted = valid_spk_rec.sum(dim=0).max(1)\n",
    "                valid_correct += (valid_predicted == valid_targets_it).type(torch.float).sum().item()\n",
    "        \n",
    "\n",
    "        avg_valid_loss /= valid_num_batches\n",
    "        valid_accuracy = valid_correct / valid_size * 100\n",
    "              \n",
    "        history['avg_valid_loss'].append(avg_valid_loss.item())\n",
    "        history['valid_accuracy'].append(valid_accuracy)\n",
    "        scheduler.step()\n",
    "        \n",
    "        if verbose == True: \n",
    "            print(f\"Validation Results, Epoch {t+1}: \\n Accuracy: {(valid_accuracy):>0.1f}%, Avg loss: {avg_valid_loss.item():>8f} \\n\")\n",
    "\n",
    "\n",
    "    print(\"Done!\")\n",
    "    print(f\"Final Train Accuracy: {(accuracy):>0.1f}%, and Avg loss: {avg_train_loss.item():>8f} \\n\")\n",
    "    print(f\"Final Validation Accuracy: {(valid_accuracy):>0.1f}%, and Avg loss: {avg_valid_loss.item():>8f} \\n\")\n",
    "    current_time = time.time()\n",
    "    total = current_time - start_time\n",
    "    print(f'Training time: {round(total/60,2)} minutes')\n",
    "    return history\n",
    "\n",
    "def get_latency_mse_snn_results(resolution,epochs = 20,ratio = 1, slope = 25, verbose = True):\n",
    "    spike_grad = surrogate.fast_sigmoid(slope = slope)\n",
    "    train, valid = load_in_data(resolution, ratio)\n",
    "    model = Latency_LIF_Snn_Net(resolution, spike_grad).to(device)\n",
    "\n",
    "    output = train_rate_spiking_mse_model(resolution, train,valid,model,epochs, verbose = verbose)\n",
    "    \n",
    "    return output\n",
    "\n",
    "#plot_training_history(output,resolution, ylimita = loss_upper, ylimitb_lower = acc_lower, ylimitb_upper = acc_higher)"
   ]
  },
  {
   "cell_type": "markdown",
   "metadata": {},
   "source": [
    "# Training models"
   ]
  },
  {
   "cell_type": "markdown",
   "metadata": {},
   "source": [
    "## 56 * 56"
   ]
  },
  {
   "cell_type": "code",
   "execution_count": 12,
   "metadata": {
    "tags": []
   },
   "outputs": [
    {
     "name": "stdout",
     "output_type": "stream",
     "text": [
      "Starting Training\n",
      "Done!\n",
      "Final Train Accuracy: 99.8%, and Avg loss: 0.443055 \n",
      "\n",
      "Final Validation Accuracy: 98.1%, and Avg loss: 4.363201 \n",
      "\n",
      "Training time: 28.34 minutes\n"
     ]
    }
   ],
   "source": [
    "batch_size = 128\n",
    "output_56_r1 = get_latency_mse_snn_results(resolution = 56, ratio = 1, epochs = 75, slope = 5, verbose = False)"
   ]
  },
  {
   "cell_type": "code",
   "execution_count": 13,
   "metadata": {
    "tags": []
   },
   "outputs": [
    {
     "name": "stdout",
     "output_type": "stream",
     "text": [
      "Starting Training\n",
      "Done!\n",
      "Final Train Accuracy: 99.4%, and Avg loss: 0.519425 \n",
      "\n",
      "Final Validation Accuracy: 96.8%, and Avg loss: 4.424455 \n",
      "\n",
      "Training time: 9.11 minutes\n"
     ]
    }
   ],
   "source": [
    "batch_size = 128\n",
    "output_56_r4 = get_latency_mse_snn_results(resolution = 56, ratio = 4, epochs = 75, slope = 5, verbose = False)"
   ]
  },
  {
   "cell_type": "code",
   "execution_count": 14,
   "metadata": {},
   "outputs": [
    {
     "name": "stdout",
     "output_type": "stream",
     "text": [
      "Starting Training\n",
      "Done!\n",
      "Final Train Accuracy: 99.7%, and Avg loss: 0.455343 \n",
      "\n",
      "Final Validation Accuracy: 96.0%, and Avg loss: 4.438743 \n",
      "\n",
      "Training time: 14.17 minutes\n"
     ]
    }
   ],
   "source": [
    "batch_size = 32\n",
    "output_56_r10 = get_latency_mse_snn_results(resolution = 56, ratio = 10, epochs = 75, slope = 5, verbose = False)"
   ]
  },
  {
   "cell_type": "code",
   "execution_count": 15,
   "metadata": {},
   "outputs": [
    {
     "name": "stdout",
     "output_type": "stream",
     "text": [
      "Starting Training\n",
      "Done!\n",
      "Final Train Accuracy: 95.8%, and Avg loss: 0.770122 \n",
      "\n",
      "Final Validation Accuracy: 90.0%, and Avg loss: 5.119383 \n",
      "\n",
      "Training time: 7.4 minutes\n"
     ]
    }
   ],
   "source": [
    "batch_size = 32\n",
    "output_56_r100 = get_latency_mse_snn_results(resolution = 56, ratio = 100, epochs = 75, slope = 5, verbose = False)"
   ]
  },
  {
   "cell_type": "markdown",
   "metadata": {},
   "source": [
    "## 28 * 28"
   ]
  },
  {
   "cell_type": "code",
   "execution_count": 16,
   "metadata": {},
   "outputs": [
    {
     "name": "stdout",
     "output_type": "stream",
     "text": [
      "Starting Training\n",
      "Done!\n",
      "Final Train Accuracy: 99.6%, and Avg loss: 0.426369 \n",
      "\n",
      "Final Validation Accuracy: 97.9%, and Avg loss: 4.454712 \n",
      "\n",
      "Training time: 25.38 minutes\n"
     ]
    }
   ],
   "source": [
    "batch_size = 128\n",
    "output_28_r1 = get_latency_mse_snn_results(resolution = 28, ratio = 1, epochs = 75, slope = 5, verbose = False)"
   ]
  },
  {
   "cell_type": "code",
   "execution_count": 17,
   "metadata": {},
   "outputs": [
    {
     "name": "stdout",
     "output_type": "stream",
     "text": [
      "Starting Training\n",
      "Done!\n",
      "Final Train Accuracy: 98.4%, and Avg loss: 0.541676 \n",
      "\n",
      "Final Validation Accuracy: 95.9%, and Avg loss: 4.505251 \n",
      "\n",
      "Training time: 7.93 minutes\n"
     ]
    }
   ],
   "source": [
    "batch_size = 128\n",
    "output_28_r4 = get_latency_mse_snn_results(resolution = 28, ratio = 4, epochs = 75, slope = 5, verbose = False)"
   ]
  },
  {
   "cell_type": "code",
   "execution_count": 18,
   "metadata": {},
   "outputs": [
    {
     "name": "stdout",
     "output_type": "stream",
     "text": [
      "Starting Training\n",
      "Done!\n",
      "Final Train Accuracy: 99.2%, and Avg loss: 0.469870 \n",
      "\n",
      "Final Validation Accuracy: 94.8%, and Avg loss: 4.496026 \n",
      "\n",
      "Training time: 13.29 minutes\n"
     ]
    }
   ],
   "source": [
    "batch_size = 32\n",
    "output_28_r10 = get_latency_mse_snn_results(resolution = 28, ratio = 10, epochs = 75, slope = 5, verbose = False)"
   ]
  },
  {
   "cell_type": "code",
   "execution_count": 19,
   "metadata": {},
   "outputs": [
    {
     "name": "stdout",
     "output_type": "stream",
     "text": [
      "Starting Training\n",
      "Done!\n",
      "Final Train Accuracy: 95.2%, and Avg loss: 0.952086 \n",
      "\n",
      "Final Validation Accuracy: 88.8%, and Avg loss: 5.242408 \n",
      "\n",
      "Training time: 6.83 minutes\n"
     ]
    }
   ],
   "source": [
    "batch_size = 32\n",
    "output_28_r100 = get_latency_mse_snn_results(resolution = 28, ratio = 100, epochs = 75, slope = 5, verbose = False)"
   ]
  },
  {
   "cell_type": "markdown",
   "metadata": {},
   "source": [
    "# 14 * 14"
   ]
  },
  {
   "cell_type": "code",
   "execution_count": 20,
   "metadata": {},
   "outputs": [
    {
     "name": "stdout",
     "output_type": "stream",
     "text": [
      "Starting Training\n",
      "Done!\n",
      "Final Train Accuracy: 98.2%, and Avg loss: 0.923600 \n",
      "\n",
      "Final Validation Accuracy: 97.0%, and Avg loss: 4.042758 \n",
      "\n",
      "Training time: 43.24 minutes\n"
     ]
    }
   ],
   "source": [
    "batch_size = 64\n",
    "output_14_r1 = get_latency_mse_snn_results(resolution = 14, ratio = 1, epochs = 75, slope = 5, verbose = False)"
   ]
  },
  {
   "cell_type": "code",
   "execution_count": 21,
   "metadata": {},
   "outputs": [
    {
     "name": "stdout",
     "output_type": "stream",
     "text": [
      "Starting Training\n",
      "Done!\n",
      "Final Train Accuracy: 95.2%, and Avg loss: 1.114337 \n",
      "\n",
      "Final Validation Accuracy: 93.5%, and Avg loss: 4.034118 \n",
      "\n",
      "Training time: 7.95 minutes\n"
     ]
    }
   ],
   "source": [
    "batch_size = 128\n",
    "output_14_r4 = get_latency_mse_snn_results(resolution = 14, ratio = 4, epochs = 75, slope = 5, verbose = False)"
   ]
  },
  {
   "cell_type": "code",
   "execution_count": 22,
   "metadata": {},
   "outputs": [
    {
     "name": "stdout",
     "output_type": "stream",
     "text": [
      "Starting Training\n",
      "Done!\n",
      "Final Train Accuracy: 97.1%, and Avg loss: 1.101349 \n",
      "\n",
      "Final Validation Accuracy: 93.5%, and Avg loss: 4.128159 \n",
      "\n",
      "Training time: 13.2 minutes\n"
     ]
    }
   ],
   "source": [
    "batch_size = 32\n",
    "output_14_r10 = get_latency_mse_snn_results(resolution = 14, ratio = 10, epochs = 75, slope = 5, verbose = False)"
   ]
  },
  {
   "cell_type": "code",
   "execution_count": 23,
   "metadata": {},
   "outputs": [
    {
     "name": "stdout",
     "output_type": "stream",
     "text": [
      "Starting Training\n",
      "Done!\n",
      "Final Train Accuracy: 91.7%, and Avg loss: 1.613114 \n",
      "\n",
      "Final Validation Accuracy: 86.4%, and Avg loss: 4.475023 \n",
      "\n",
      "Training time: 6.79 minutes\n"
     ]
    }
   ],
   "source": [
    "batch_size = 32\n",
    "output_14_r100 = get_latency_mse_snn_results(resolution = 14, ratio = 100, epochs = 75, slope = 5, verbose = False)"
   ]
  },
  {
   "cell_type": "markdown",
   "metadata": {},
   "source": [
    "## 7 * 7"
   ]
  },
  {
   "cell_type": "code",
   "execution_count": 24,
   "metadata": {},
   "outputs": [
    {
     "name": "stdout",
     "output_type": "stream",
     "text": [
      "Starting Training\n",
      "Done!\n",
      "Final Train Accuracy: 90.1%, and Avg loss: 1.530535 \n",
      "\n",
      "Final Validation Accuracy: 89.2%, and Avg loss: 3.303201 \n",
      "\n",
      "Training time: 24.94 minutes\n"
     ]
    }
   ],
   "source": [
    "batch_size = 128\n",
    "output_7_r1 = get_latency_mse_snn_results(resolution = 7, ratio = 1, epochs = 75, slope = 5, verbose = False)"
   ]
  },
  {
   "cell_type": "code",
   "execution_count": 25,
   "metadata": {
    "tags": []
   },
   "outputs": [
    {
     "data": {
      "image/png": "[encoded data removed]",
      "text/plain": [
       "<Figure size 1296x432 with 2 Axes>"
      ]
     },
     "metadata": {
      "needs_background": "light"
     },
     "output_type": "display_data"
    }
   ],
   "source": [
    "plot_training_history(output_7_r1,7, acc_lower = 80)"
   ]
  },
  {
   "cell_type": "code",
   "execution_count": 26,
   "metadata": {},
   "outputs": [
    {
     "name": "stdout",
     "output_type": "stream",
     "text": [
      "Starting Training\n",
      "Done!\n",
      "Final Train Accuracy: 85.0%, and Avg loss: 1.670419 \n",
      "\n",
      "Final Validation Accuracy: 84.6%, and Avg loss: 3.336505 \n",
      "\n",
      "Training time: 7.9 minutes\n"
     ]
    }
   ],
   "source": [
    "batch_size = 128\n",
    "output_7_r4 = get_latency_mse_snn_results(resolution = 7, ratio = 4, epochs = 75, slope = 5, verbose = False)"
   ]
  },
  {
   "cell_type": "code",
   "execution_count": 27,
   "metadata": {},
   "outputs": [
    {
     "name": "stdout",
     "output_type": "stream",
     "text": [
      "Starting Training\n",
      "Done!\n",
      "Final Train Accuracy: 86.6%, and Avg loss: 1.668359 \n",
      "\n",
      "Final Validation Accuracy: 84.1%, and Avg loss: 3.431466 \n",
      "\n",
      "Training time: 13.05 minutes\n"
     ]
    }
   ],
   "source": [
    "batch_size = 32\n",
    "output_7_r10 = get_latency_mse_snn_results(resolution = 7, ratio = 10, epochs = 75, slope = 5, verbose = False)"
   ]
  },
  {
   "cell_type": "code",
   "execution_count": 28,
   "metadata": {},
   "outputs": [
    {
     "name": "stdout",
     "output_type": "stream",
     "text": [
      "Starting Training\n",
      "Done!\n",
      "Final Train Accuracy: 81.0%, and Avg loss: 2.085468 \n",
      "\n",
      "Final Validation Accuracy: 72.9%, and Avg loss: 3.676075 \n",
      "\n",
      "Training time: 6.63 minutes\n"
     ]
    }
   ],
   "source": [
    "batch_size = 32\n",
    "output_7_r100 = get_latency_mse_snn_results(resolution = 7, ratio = 100, epochs = 75, slope = 5, verbose = False)"
   ]
  },
  {
   "cell_type": "markdown",
   "metadata": {},
   "source": [
    "# Saving Results"
   ]
  },
  {
   "cell_type": "code",
   "execution_count": null,
   "metadata": {
    "jupyter": {
     "source_hidden": true
    },
    "tags": []
   },
   "outputs": [],
   "source": [
    "output_56_r1\n",
    "output_56_r4\n",
    "output_56_r10\n",
    "output_56_r100\n",
    "\n",
    "output_28_r1\n",
    "output_28_r4\n",
    "output_28_r10\n",
    "output_28_r100\n",
    "\n",
    "output_14_r1\n",
    "output_14_r4\n",
    "output_14_r10\n",
    "output_14_r100\n",
    "\n",
    "output_7_r1\n",
    "output_7_r4\n",
    "output_7_r10\n",
    "output_7_r100"
   ]
  },
  {
   "cell_type": "code",
   "execution_count": 29,
   "metadata": {},
   "outputs": [],
   "source": [
    "output_res = ['output_56', 'output_28', 'output_14','output_7']\n",
    "output_ratio = ['_r1','_r4','_r10','_r100']\n",
    "index = ['avg_train_loss', 'train_accuracy', 'avg_valid_loss', 'valid_accuracy']"
   ]
  },
  {
   "cell_type": "code",
   "execution_count": 30,
   "metadata": {},
   "outputs": [],
   "source": [
    "all_columns = []\n",
    "all_models = []\n",
    "for name in output_res:\n",
    "    for ratio in output_ratio: \n",
    "        model_name = name + ratio\n",
    "        all_models.append(model_name)\n",
    "        for indice in index: \n",
    "            column_name = name + ratio + '_' + indice\n",
    "            all_columns.append(column_name)"
   ]
  },
  {
   "cell_type": "code",
   "execution_count": 26,
   "metadata": {},
   "outputs": [
    {
     "data": {
      "text/plain": [
       "dict_keys(['avg_train_loss', 'train_accuracy', 'avg_valid_loss', 'valid_accuracy'])"
      ]
     },
     "execution_count": 26,
     "metadata": {},
     "output_type": "execute_result"
    }
   ],
   "source": [
    "output_56_r1.keys()"
   ]
  },
  {
   "cell_type": "code",
   "execution_count": 95,
   "metadata": {
    "collapsed": true,
    "jupyter": {
     "outputs_hidden": true
    }
   },
   "outputs": [
    {
     "data": {
      "text/plain": [
       "[0.13006120920181274,\n",
       " 0.042799513787031174,\n",
       " 0.03713303059339523,\n",
       " 0.06466007232666016,\n",
       " 0.015814419835805893,\n",
       " 0.03430761396884918,\n",
       " 0.0019204705022275448,\n",
       " 0.011888238601386547,\n",
       " 0.0019352637464180589,\n",
       " 0.008182739838957787,\n",
       " 0.017129648476839066,\n",
       " 0.02643691748380661,\n",
       " 0.0015373200876638293,\n",
       " 0.14406420290470123,\n",
       " 0.000397319789044559,\n",
       " 0.007249984424561262,\n",
       " 0.04614896699786186,\n",
       " 0.07822474092245102,\n",
       " 0.0012644941452890635,\n",
       " 0.0038358275778591633,\n",
       " 0.00786791555583477,\n",
       " 0.000664190505631268,\n",
       " 0.001168444869108498,\n",
       " 0.0002316593745490536,\n",
       " 0.005893235560506582,\n",
       " 0.0007707395707257092,\n",
       " 0.0001737207785481587,\n",
       " 3.402635411475785e-05,\n",
       " 3.451213342486881e-05,\n",
       " 5.471266194945201e-05,\n",
       " 0.0008975357632152736,\n",
       " 0.00015174300642684102,\n",
       " 0.0006222904194146395,\n",
       " 5.256674285192275e-06,\n",
       " 7.913309673313051e-06,\n",
       " 0.00016171134484466165,\n",
       " 0.000734230678062886,\n",
       " 1.4118486433289945e-05,\n",
       " 0.01709653064608574,\n",
       " 2.1993864720570855e-05,\n",
       " 1.7628976820560638e-06,\n",
       " 0.022050853818655014,\n",
       " 7.068630907269835e-07,\n",
       " 1.3781431334791705e-05,\n",
       " 0.0013350488152354956,\n",
       " 0.003219502279534936,\n",
       " 2.711762817853014e-06,\n",
       " 3.430059223319404e-05,\n",
       " 0.001625832635909319,\n",
       " 9.797412303669262e-07,\n",
       " 0.00045810462324880064,\n",
       " 4.594902748067398e-06,\n",
       " 1.704303684846309e-07,\n",
       " 9.631192369852215e-05,\n",
       " 7.178925898188027e-06,\n",
       " 4.1965745367633644e-06,\n",
       " 2.5238588818865537e-07,\n",
       " 8.284423529403284e-06,\n",
       " 8.11660211184062e-05,\n",
       " 0.0004598332161549479,\n",
       " 5.503922579919163e-07,\n",
       " 8.004375558812171e-06,\n",
       " 0.0005502012209035456,\n",
       " 4.824157144867058e-07,\n",
       " 1.9278174079317978e-07,\n",
       " 6.183738037179864e-07,\n",
       " 2.3841647589506465e-07,\n",
       " 0.0005763408844359219,\n",
       " 7.0311452873284e-06,\n",
       " 1.2944764193889569e-06,\n",
       " 1.667062292654009e-07,\n",
       " 1.3800985243506148e-06,\n",
       " 2.1669002308044583e-06,\n",
       " 2.235172047448941e-08,\n",
       " 8.381901395182467e-09]"
      ]
     },
     "execution_count": 95,
     "metadata": {},
     "output_type": "execute_result"
    }
   ],
   "source": [
    "locals()[all_models[0]]['avg_train_loss']"
   ]
  },
  {
   "cell_type": "code",
   "execution_count": 31,
   "metadata": {},
   "outputs": [],
   "source": [
    "df = pd.DataFrame()\n",
    "for entry in all_models:\n",
    "    for key in index:\n",
    "        string = entry + '_' + key\n",
    "        \n",
    "        df[string] = locals()[entry][key]"
   ]
  },
  {
   "cell_type": "code",
   "execution_count": 32,
   "metadata": {},
   "outputs": [
    {
     "data": {
      "text/html": [
       "<div>\n",
       "<style scoped>\n",
       "    .dataframe tbody tr th:only-of-type {\n",
       "        vertical-align: middle;\n",
       "    }\n",
       "\n",
       "    .dataframe tbody tr th {\n",
       "        vertical-align: top;\n",
       "    }\n",
       "\n",
       "    .dataframe thead th {\n",
       "        text-align: right;\n",
       "    }\n",
       "</style>\n",
       "<table border=\"1\" class=\"dataframe\">\n",
       "  <thead>\n",
       "    <tr style=\"text-align: right;\">\n",
       "      <th></th>\n",
       "      <th>output_56_r1_avg_train_loss</th>\n",
       "      <th>output_56_r1_train_accuracy</th>\n",
       "      <th>output_56_r1_avg_valid_loss</th>\n",
       "      <th>output_56_r1_valid_accuracy</th>\n",
       "      <th>output_56_r4_avg_train_loss</th>\n",
       "      <th>output_56_r4_train_accuracy</th>\n",
       "      <th>output_56_r4_avg_valid_loss</th>\n",
       "      <th>output_56_r4_valid_accuracy</th>\n",
       "      <th>output_56_r10_avg_train_loss</th>\n",
       "      <th>output_56_r10_train_accuracy</th>\n",
       "      <th>...</th>\n",
       "      <th>output_7_r4_avg_valid_loss</th>\n",
       "      <th>output_7_r4_valid_accuracy</th>\n",
       "      <th>output_7_r10_avg_train_loss</th>\n",
       "      <th>output_7_r10_train_accuracy</th>\n",
       "      <th>output_7_r10_avg_valid_loss</th>\n",
       "      <th>output_7_r10_valid_accuracy</th>\n",
       "      <th>output_7_r100_avg_train_loss</th>\n",
       "      <th>output_7_r100_train_accuracy</th>\n",
       "      <th>output_7_r100_avg_valid_loss</th>\n",
       "      <th>output_7_r100_valid_accuracy</th>\n",
       "    </tr>\n",
       "  </thead>\n",
       "  <tbody>\n",
       "    <tr>\n",
       "      <th>0</th>\n",
       "      <td>1.830772</td>\n",
       "      <td>78.685000</td>\n",
       "      <td>4.611421</td>\n",
       "      <td>91.83</td>\n",
       "      <td>2.610935</td>\n",
       "      <td>40.080000</td>\n",
       "      <td>4.963690</td>\n",
       "      <td>75.45</td>\n",
       "      <td>2.378633</td>\n",
       "      <td>45.600000</td>\n",
       "      <td>...</td>\n",
       "      <td>2.764889</td>\n",
       "      <td>9.78</td>\n",
       "      <td>2.691024</td>\n",
       "      <td>9.866667</td>\n",
       "      <td>2.679641</td>\n",
       "      <td>9.88</td>\n",
       "      <td>3.992051</td>\n",
       "      <td>9.500000</td>\n",
       "      <td>3.106147</td>\n",
       "      <td>9.79</td>\n",
       "    </tr>\n",
       "    <tr>\n",
       "      <th>1</th>\n",
       "      <td>1.113603</td>\n",
       "      <td>92.795000</td>\n",
       "      <td>4.437547</td>\n",
       "      <td>93.66</td>\n",
       "      <td>2.200594</td>\n",
       "      <td>83.073333</td>\n",
       "      <td>5.081515</td>\n",
       "      <td>89.15</td>\n",
       "      <td>2.120453</td>\n",
       "      <td>84.833333</td>\n",
       "      <td>...</td>\n",
       "      <td>2.911398</td>\n",
       "      <td>17.76</td>\n",
       "      <td>2.057868</td>\n",
       "      <td>12.133333</td>\n",
       "      <td>2.855906</td>\n",
       "      <td>20.50</td>\n",
       "      <td>2.887917</td>\n",
       "      <td>9.000000</td>\n",
       "      <td>2.894452</td>\n",
       "      <td>9.80</td>\n",
       "    </tr>\n",
       "    <tr>\n",
       "      <th>2</th>\n",
       "      <td>0.930229</td>\n",
       "      <td>94.105000</td>\n",
       "      <td>4.420147</td>\n",
       "      <td>94.73</td>\n",
       "      <td>1.805089</td>\n",
       "      <td>89.513333</td>\n",
       "      <td>4.935894</td>\n",
       "      <td>90.76</td>\n",
       "      <td>1.703916</td>\n",
       "      <td>89.333333</td>\n",
       "      <td>...</td>\n",
       "      <td>3.006662</td>\n",
       "      <td>39.56</td>\n",
       "      <td>2.053483</td>\n",
       "      <td>35.466667</td>\n",
       "      <td>3.038039</td>\n",
       "      <td>46.87</td>\n",
       "      <td>2.687594</td>\n",
       "      <td>9.833333</td>\n",
       "      <td>2.750062</td>\n",
       "      <td>9.79</td>\n",
       "    </tr>\n",
       "    <tr>\n",
       "      <th>3</th>\n",
       "      <td>0.844409</td>\n",
       "      <td>94.956667</td>\n",
       "      <td>4.392326</td>\n",
       "      <td>95.18</td>\n",
       "      <td>1.509597</td>\n",
       "      <td>91.280000</td>\n",
       "      <td>4.745568</td>\n",
       "      <td>91.74</td>\n",
       "      <td>1.416651</td>\n",
       "      <td>90.783333</td>\n",
       "      <td>...</td>\n",
       "      <td>3.231533</td>\n",
       "      <td>45.06</td>\n",
       "      <td>2.135855</td>\n",
       "      <td>53.683333</td>\n",
       "      <td>3.173263</td>\n",
       "      <td>54.87</td>\n",
       "      <td>2.564246</td>\n",
       "      <td>10.000000</td>\n",
       "      <td>2.607872</td>\n",
       "      <td>9.78</td>\n",
       "    </tr>\n",
       "    <tr>\n",
       "      <th>4</th>\n",
       "      <td>0.790839</td>\n",
       "      <td>95.543333</td>\n",
       "      <td>4.320792</td>\n",
       "      <td>95.67</td>\n",
       "      <td>1.329365</td>\n",
       "      <td>92.133333</td>\n",
       "      <td>4.666785</td>\n",
       "      <td>92.23</td>\n",
       "      <td>1.252186</td>\n",
       "      <td>91.850000</td>\n",
       "      <td>...</td>\n",
       "      <td>3.271589</td>\n",
       "      <td>48.34</td>\n",
       "      <td>2.132634</td>\n",
       "      <td>58.833333</td>\n",
       "      <td>3.334400</td>\n",
       "      <td>61.20</td>\n",
       "      <td>2.472728</td>\n",
       "      <td>9.833333</td>\n",
       "      <td>2.595584</td>\n",
       "      <td>9.78</td>\n",
       "    </tr>\n",
       "    <tr>\n",
       "      <th>...</th>\n",
       "      <td>...</td>\n",
       "      <td>...</td>\n",
       "      <td>...</td>\n",
       "      <td>...</td>\n",
       "      <td>...</td>\n",
       "      <td>...</td>\n",
       "      <td>...</td>\n",
       "      <td>...</td>\n",
       "      <td>...</td>\n",
       "      <td>...</td>\n",
       "      <td>...</td>\n",
       "      <td>...</td>\n",
       "      <td>...</td>\n",
       "      <td>...</td>\n",
       "      <td>...</td>\n",
       "      <td>...</td>\n",
       "      <td>...</td>\n",
       "      <td>...</td>\n",
       "      <td>...</td>\n",
       "      <td>...</td>\n",
       "      <td>...</td>\n",
       "    </tr>\n",
       "    <tr>\n",
       "      <th>70</th>\n",
       "      <td>0.448011</td>\n",
       "      <td>99.741667</td>\n",
       "      <td>4.430603</td>\n",
       "      <td>98.05</td>\n",
       "      <td>0.526122</td>\n",
       "      <td>99.340000</td>\n",
       "      <td>4.392900</td>\n",
       "      <td>96.84</td>\n",
       "      <td>0.462169</td>\n",
       "      <td>99.733333</td>\n",
       "      <td>...</td>\n",
       "      <td>3.341161</td>\n",
       "      <td>84.49</td>\n",
       "      <td>1.672443</td>\n",
       "      <td>86.433333</td>\n",
       "      <td>3.440139</td>\n",
       "      <td>84.24</td>\n",
       "      <td>2.091174</td>\n",
       "      <td>78.833333</td>\n",
       "      <td>3.661240</td>\n",
       "      <td>71.87</td>\n",
       "    </tr>\n",
       "    <tr>\n",
       "      <th>71</th>\n",
       "      <td>0.446774</td>\n",
       "      <td>99.743333</td>\n",
       "      <td>4.388725</td>\n",
       "      <td>98.12</td>\n",
       "      <td>0.525142</td>\n",
       "      <td>99.353333</td>\n",
       "      <td>4.400374</td>\n",
       "      <td>96.81</td>\n",
       "      <td>0.459639</td>\n",
       "      <td>99.733333</td>\n",
       "      <td>...</td>\n",
       "      <td>3.336647</td>\n",
       "      <td>84.52</td>\n",
       "      <td>1.677120</td>\n",
       "      <td>86.633333</td>\n",
       "      <td>3.411141</td>\n",
       "      <td>84.43</td>\n",
       "      <td>2.070864</td>\n",
       "      <td>79.500000</td>\n",
       "      <td>3.619136</td>\n",
       "      <td>72.11</td>\n",
       "    </tr>\n",
       "    <tr>\n",
       "      <th>72</th>\n",
       "      <td>0.445493</td>\n",
       "      <td>99.750000</td>\n",
       "      <td>4.435111</td>\n",
       "      <td>98.15</td>\n",
       "      <td>0.521320</td>\n",
       "      <td>99.346667</td>\n",
       "      <td>4.408088</td>\n",
       "      <td>96.79</td>\n",
       "      <td>0.458549</td>\n",
       "      <td>99.733333</td>\n",
       "      <td>...</td>\n",
       "      <td>3.324887</td>\n",
       "      <td>84.32</td>\n",
       "      <td>1.677604</td>\n",
       "      <td>86.550000</td>\n",
       "      <td>3.437248</td>\n",
       "      <td>84.51</td>\n",
       "      <td>2.090419</td>\n",
       "      <td>79.833333</td>\n",
       "      <td>3.660859</td>\n",
       "      <td>72.84</td>\n",
       "    </tr>\n",
       "    <tr>\n",
       "      <th>73</th>\n",
       "      <td>0.443962</td>\n",
       "      <td>99.746667</td>\n",
       "      <td>4.440116</td>\n",
       "      <td>98.10</td>\n",
       "      <td>0.520664</td>\n",
       "      <td>99.366667</td>\n",
       "      <td>4.382348</td>\n",
       "      <td>96.77</td>\n",
       "      <td>0.457270</td>\n",
       "      <td>99.733333</td>\n",
       "      <td>...</td>\n",
       "      <td>3.327659</td>\n",
       "      <td>84.32</td>\n",
       "      <td>1.674173</td>\n",
       "      <td>86.816667</td>\n",
       "      <td>3.445701</td>\n",
       "      <td>84.33</td>\n",
       "      <td>2.092718</td>\n",
       "      <td>80.666667</td>\n",
       "      <td>3.637824</td>\n",
       "      <td>72.55</td>\n",
       "    </tr>\n",
       "    <tr>\n",
       "      <th>74</th>\n",
       "      <td>0.443055</td>\n",
       "      <td>99.750000</td>\n",
       "      <td>4.363201</td>\n",
       "      <td>98.07</td>\n",
       "      <td>0.519425</td>\n",
       "      <td>99.360000</td>\n",
       "      <td>4.424455</td>\n",
       "      <td>96.82</td>\n",
       "      <td>0.455343</td>\n",
       "      <td>99.733333</td>\n",
       "      <td>...</td>\n",
       "      <td>3.336505</td>\n",
       "      <td>84.58</td>\n",
       "      <td>1.668359</td>\n",
       "      <td>86.550000</td>\n",
       "      <td>3.431466</td>\n",
       "      <td>84.10</td>\n",
       "      <td>2.085468</td>\n",
       "      <td>81.000000</td>\n",
       "      <td>3.676075</td>\n",
       "      <td>72.88</td>\n",
       "    </tr>\n",
       "  </tbody>\n",
       "</table>\n",
       "<p>75 rows × 64 columns</p>\n",
       "</div>"
      ],
      "text/plain": [
       "    output_56_r1_avg_train_loss  output_56_r1_train_accuracy  \\\n",
       "0                      1.830772                    78.685000   \n",
       "1                      1.113603                    92.795000   \n",
       "2                      0.930229                    94.105000   \n",
       "3                      0.844409                    94.956667   \n",
       "4                      0.790839                    95.543333   \n",
       "..                          ...                          ...   \n",
       "70                     0.448011                    99.741667   \n",
       "71                     0.446774                    99.743333   \n",
       "72                     0.445493                    99.750000   \n",
       "73                     0.443962                    99.746667   \n",
       "74                     0.443055                    99.750000   \n",
       "\n",
       "    output_56_r1_avg_valid_loss  output_56_r1_valid_accuracy  \\\n",
       "0                      4.611421                        91.83   \n",
       "1                      4.437547                        93.66   \n",
       "2                      4.420147                        94.73   \n",
       "3                      4.392326                        95.18   \n",
       "4                      4.320792                        95.67   \n",
       "..                          ...                          ...   \n",
       "70                     4.430603                        98.05   \n",
       "71                     4.388725                        98.12   \n",
       "72                     4.435111                        98.15   \n",
       "73                     4.440116                        98.10   \n",
       "74                     4.363201                        98.07   \n",
       "\n",
       "    output_56_r4_avg_train_loss  output_56_r4_train_accuracy  \\\n",
       "0                      2.610935                    40.080000   \n",
       "1                      2.200594                    83.073333   \n",
       "2                      1.805089                    89.513333   \n",
       "3                      1.509597                    91.280000   \n",
       "4                      1.329365                    92.133333   \n",
       "..                          ...                          ...   \n",
       "70                     0.526122                    99.340000   \n",
       "71                     0.525142                    99.353333   \n",
       "72                     0.521320                    99.346667   \n",
       "73                     0.520664                    99.366667   \n",
       "74                     0.519425                    99.360000   \n",
       "\n",
       "    output_56_r4_avg_valid_loss  output_56_r4_valid_accuracy  \\\n",
       "0                      4.963690                        75.45   \n",
       "1                      5.081515                        89.15   \n",
       "2                      4.935894                        90.76   \n",
       "3                      4.745568                        91.74   \n",
       "4                      4.666785                        92.23   \n",
       "..                          ...                          ...   \n",
       "70                     4.392900                        96.84   \n",
       "71                     4.400374                        96.81   \n",
       "72                     4.408088                        96.79   \n",
       "73                     4.382348                        96.77   \n",
       "74                     4.424455                        96.82   \n",
       "\n",
       "    output_56_r10_avg_train_loss  output_56_r10_train_accuracy  ...  \\\n",
       "0                       2.378633                     45.600000  ...   \n",
       "1                       2.120453                     84.833333  ...   \n",
       "2                       1.703916                     89.333333  ...   \n",
       "3                       1.416651                     90.783333  ...   \n",
       "4                       1.252186                     91.850000  ...   \n",
       "..                           ...                           ...  ...   \n",
       "70                      0.462169                     99.733333  ...   \n",
       "71                      0.459639                     99.733333  ...   \n",
       "72                      0.458549                     99.733333  ...   \n",
       "73                      0.457270                     99.733333  ...   \n",
       "74                      0.455343                     99.733333  ...   \n",
       "\n",
       "    output_7_r4_avg_valid_loss  output_7_r4_valid_accuracy  \\\n",
       "0                     2.764889                        9.78   \n",
       "1                     2.911398                       17.76   \n",
       "2                     3.006662                       39.56   \n",
       "3                     3.231533                       45.06   \n",
       "4                     3.271589                       48.34   \n",
       "..                         ...                         ...   \n",
       "70                    3.341161                       84.49   \n",
       "71                    3.336647                       84.52   \n",
       "72                    3.324887                       84.32   \n",
       "73                    3.327659                       84.32   \n",
       "74                    3.336505                       84.58   \n",
       "\n",
       "    output_7_r10_avg_train_loss  output_7_r10_train_accuracy  \\\n",
       "0                      2.691024                     9.866667   \n",
       "1                      2.057868                    12.133333   \n",
       "2                      2.053483                    35.466667   \n",
       "3                      2.135855                    53.683333   \n",
       "4                      2.132634                    58.833333   \n",
       "..                          ...                          ...   \n",
       "70                     1.672443                    86.433333   \n",
       "71                     1.677120                    86.633333   \n",
       "72                     1.677604                    86.550000   \n",
       "73                     1.674173                    86.816667   \n",
       "74                     1.668359                    86.550000   \n",
       "\n",
       "    output_7_r10_avg_valid_loss  output_7_r10_valid_accuracy  \\\n",
       "0                      2.679641                         9.88   \n",
       "1                      2.855906                        20.50   \n",
       "2                      3.038039                        46.87   \n",
       "3                      3.173263                        54.87   \n",
       "4                      3.334400                        61.20   \n",
       "..                          ...                          ...   \n",
       "70                     3.440139                        84.24   \n",
       "71                     3.411141                        84.43   \n",
       "72                     3.437248                        84.51   \n",
       "73                     3.445701                        84.33   \n",
       "74                     3.431466                        84.10   \n",
       "\n",
       "    output_7_r100_avg_train_loss  output_7_r100_train_accuracy  \\\n",
       "0                       3.992051                      9.500000   \n",
       "1                       2.887917                      9.000000   \n",
       "2                       2.687594                      9.833333   \n",
       "3                       2.564246                     10.000000   \n",
       "4                       2.472728                      9.833333   \n",
       "..                           ...                           ...   \n",
       "70                      2.091174                     78.833333   \n",
       "71                      2.070864                     79.500000   \n",
       "72                      2.090419                     79.833333   \n",
       "73                      2.092718                     80.666667   \n",
       "74                      2.085468                     81.000000   \n",
       "\n",
       "    output_7_r100_avg_valid_loss  output_7_r100_valid_accuracy  \n",
       "0                       3.106147                          9.79  \n",
       "1                       2.894452                          9.80  \n",
       "2                       2.750062                          9.79  \n",
       "3                       2.607872                          9.78  \n",
       "4                       2.595584                          9.78  \n",
       "..                           ...                           ...  \n",
       "70                      3.661240                         71.87  \n",
       "71                      3.619136                         72.11  \n",
       "72                      3.660859                         72.84  \n",
       "73                      3.637824                         72.55  \n",
       "74                      3.676075                         72.88  \n",
       "\n",
       "[75 rows x 64 columns]"
      ]
     },
     "execution_count": 32,
     "metadata": {},
     "output_type": "execute_result"
    }
   ],
   "source": [
    "df"
   ]
  },
  {
   "cell_type": "code",
   "execution_count": 33,
   "metadata": {},
   "outputs": [],
   "source": [
    "df.to_csv('all_simple_latency_snn_training_histories.csv')"
   ]
  },
  {
   "cell_type": "markdown",
   "metadata": {},
   "source": [
    "# Plots for Latency encoding"
   ]
  },
  {
   "cell_type": "code",
   "execution_count": 7,
   "metadata": {},
   "outputs": [],
   "source": [
    "train, _ = load_in_data(28, 1)"
   ]
  },
  {
   "cell_type": "code",
   "execution_count": 8,
   "metadata": {},
   "outputs": [],
   "source": [
    "x,y = next(iter(train))"
   ]
  },
  {
   "cell_type": "code",
   "execution_count": 9,
   "metadata": {},
   "outputs": [],
   "source": [
    "x_latency =  spikegen.latency(x, num_steps=num_steps,tau = 5, threshold=0.01, normalize=True, linear=True)"
   ]
  },
  {
   "cell_type": "code",
   "execution_count": 10,
   "metadata": {},
   "outputs": [
    {
     "data": {
      "image/png": "[encoded data removed]",
      "text/plain": [
       "<Figure size 432x288 with 1 Axes>"
      ]
     },
     "metadata": {
      "needs_background": "light"
     },
     "output_type": "display_data"
    }
   ],
   "source": [
    "spike_data_sample_latency = x_latency[:, 10, -1]\n",
    "spike_data_sample_latency.size()\n",
    "plt.imshow(spike_data_sample_latency[0], cmap = 'gray')\n",
    "plt.show()"
   ]
  },
  {
   "cell_type": "code",
   "execution_count": 11,
   "metadata": {},
   "outputs": [
    {
     "data": {
      "image/png": "[encoded data removed]",
      "text/plain": [
       "<Figure size 864x576 with 6 Axes>"
      ]
     },
     "metadata": {},
     "output_type": "display_data"
    }
   ],
   "source": [
    "fig, axs = plt.subplots(1, 6, figsize=(12, 8))\n",
    "axs[0].imshow(x[10,-1], cmap = 'gray')\n",
    "axs[1].imshow(spike_data_sample_latency[0], cmap = 'gray')\n",
    "axs[2].imshow(spike_data_sample_latency[1], cmap = 'gray')\n",
    "axs[3].imshow(spike_data_sample_latency[2], cmap = 'gray')\n",
    "axs[4].imshow(spike_data_sample_latency[3], cmap = 'gray')\n",
    "axs[5].imshow(spike_data_sample_latency[4], cmap = 'gray')\n",
    "\n",
    "axs[0].set_title('Original image', fontsize = 14)\n",
    "\n",
    "for i in range(1,6):\n",
    "    axs[i].set_title(f'Time step {i}', fontsize = 14)\n",
    "    \n",
    "for i in range(6):\n",
    "    axs[i].set_xticks([])\n",
    "    axs[i].set_yticks([])\n",
    "    \n",
    "plt.savefig('MnistImageslatency.png')\n",
    "plt.show()"
   ]
  }
 ],
 "metadata": {
  "kernelspec": {
   "display_name": "Masters-Project-uJcOuMmr",
   "language": "python",
   "name": "python3"
  },
  "language_info": {
   "codemirror_mode": {
    "name": "ipython",
    "version": 3
   },
   "file_extension": ".py",
   "mimetype": "text/x-python",
   "name": "python",
   "nbconvert_exporter": "python",
   "pygments_lexer": "ipython3",
   "version": "3.10.6 (tags/v3.10.6:9c7b4bd, Aug  1 2022, 21:53:49) [MSC v.1932 64 bit (AMD64)]"
  },
  "vscode": {
   "interpreter": {
    "hash": "42dcfe4d3ff455891dcc0edcfbcf5ccac60cdc0dc8dd9e15fc951f2fbb26b4f0"
   }
  }
 },
 "nbformat": 4,
 "nbformat_minor": 5
}
