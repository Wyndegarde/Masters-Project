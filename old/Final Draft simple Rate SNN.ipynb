{
 "cells": [
  {
   "cell_type": "markdown",
   "metadata": {},
   "source": [
    "# Packages and Global variables"
   ]
  },
  {
   "cell_type": "code",
   "execution_count": 1,
   "metadata": {
    "tags": []
   },
   "outputs": [],
   "source": [
    "import numpy as np\n",
    "import pandas as pd\n",
    "from tqdm.notebook import tqdm\n",
    "import matplotlib.pyplot as plt\n",
    "from matplotlib.ticker import MaxNLocator\n",
    "from matplotlib.ticker import PercentFormatter\n",
    "import seaborn as sns\n",
    "import numpy as np\n",
    "import itertools\n",
    "from collections import defaultdict\n",
    "import time\n",
    "from torchsummary import summary\n",
    "\n",
    "import torch\n",
    "import torch.nn as nn\n",
    "import torch.optim as optim\n",
    "import torch.utils.data\n",
    "import torch.nn.functional as F\n",
    "import torchvision\n",
    "from PIL import Image, ImageFile\n",
    "from torch.utils.data import Dataset, DataLoader, random_split, SubsetRandomSampler, WeightedRandomSampler\n",
    "from torchvision import datasets, transforms, utils\n",
    "import snntorch as snn\n",
    "from snntorch import surrogate\n",
    "from snntorch import spikegen\n",
    "import snntorch.spikeplot as splt\n",
    "import math\n",
    "\n",
    "torch.manual_seed(42)\n",
    "np.random.seed(42)\n",
    "\n",
    "#print(torch.cuda.is_available())"
   ]
  },
  {
   "cell_type": "code",
   "execution_count": 2,
   "metadata": {
    "tags": []
   },
   "outputs": [],
   "source": [
    "#data_path='/data/mnist'\n",
    "data_path = '\\\\Users\\\\liamh\\\\OneDrive - University of Strathclyde\\\\University'\n",
    "dtype = torch.float\n",
    "device = torch.device(\"cuda\") if torch.cuda.is_available() else torch.device(\"cpu\")\n",
    "\n",
    "# Training Parameters\n",
    "batch_size=128\n",
    "\n",
    "# Network Architecture\n",
    "num_hidden = 350\n",
    "num_outputs = 10\n",
    "num_steps = 25\n",
    "\n",
    "# Convolutional layer parameters \n",
    "conv_kernel_size = 3\n",
    "conv_stride_length = 1 \n",
    "conv_padding_size = 1\n",
    "mp_kernel_size = 3 \n",
    "mp_stride_length = 2 \n",
    "mp_padding_size = 0\n",
    "\n",
    "# Temporal Dynamics\n",
    "time_step = 1e-3\n",
    "tau_mem = 2e-2\n",
    "beta = float(np.exp(-time_step/tau_mem))\n",
    "\n",
    "# Loss Function\n",
    "loss_fn = nn.MSELoss()"
   ]
  },
  {
   "cell_type": "markdown",
   "metadata": {},
   "source": [
    "# Functions"
   ]
  },
  {
   "cell_type": "code",
   "execution_count": 3,
   "metadata": {
    "tags": []
   },
   "outputs": [],
   "source": [
    "def load_in_data(res, ratio = 1):\n",
    "    transform = transforms.Compose([\n",
    "        transforms.Resize((res, res)), #Resize images to 28*28\n",
    "        transforms.Grayscale(), # Make sure image is grayscale\n",
    "        transforms.ToTensor()]) # change each image array to a tensor which automatically scales inputs to [0,1]\n",
    "\n",
    "    mnist_train = datasets.MNIST(data_path, train=True, download=True, transform=transform) # Download training set and apply transformations. \n",
    "    mnist_test = datasets.MNIST(data_path, train=False, download=True, transform=transform) # same for test set\n",
    "\n",
    "    train_len = int(len(mnist_train)/ratio)\n",
    "    valid_len = len(mnist_train) - train_len\n",
    "    train_dataset, _ = random_split(mnist_train, (train_len, valid_len), generator=torch.Generator().manual_seed(42))\n",
    "    \n",
    "    # Create DataLoaders\n",
    "    train_loader = DataLoader(train_dataset, batch_size=batch_size, shuffle=True, drop_last=True) # Load the data into the DataLoader so it's passed through the model, shuffled in batches. \n",
    "    valid_loader = DataLoader(mnist_test, batch_size=batch_size, shuffle=True, drop_last=True)\n",
    "    \n",
    "    return train_loader, valid_loader\n",
    "\n",
    "def output_formula(input_size, filter_size, padding, stride):\n",
    "    formula = math.floor(((((input_size - filter_size + 2*padding)/stride) + 1)))\n",
    "    \n",
    "    return formula \n",
    "\n",
    "def all_output_sizes(res, conv_filter = 3, conv_padding = 1, conv_stride = 1, mp_filter = 3, mp_padding = 0, mp_stride = 2):\n",
    "    \n",
    "    conv1 = output_formula(res, conv_filter, conv_padding, conv_stride)   # Output size from applying conv1 to input \n",
    "    mp1 = output_formula(conv1, mp_filter, mp_padding, mp_stride)         # Output size from applying max pooling 1 to conv1 \n",
    "    \n",
    "    conv2 = output_formula(mp1, conv_filter, conv_padding, conv_stride)   # Output size from applying conv2 to max pooling 1\n",
    "    conv3 = output_formula(conv2, conv_filter, conv_padding, conv_stride) # Output size from applying conv3 to conv 2\n",
    "    mp2 = output_formula(conv3, mp_filter, mp_padding, mp_stride)         # Output size from applying max pooling 2 to conv3\n",
    "    \n",
    "    conv4 = output_formula(mp2, conv_filter, conv_padding, conv_stride)   # Output size from applying conv 4 to max pooling 2\n",
    "    conv5 = output_formula(conv4, conv_filter, conv_padding, conv_stride) # Output size from applying conv5 to conv 4\n",
    "    mp3 = output_formula(conv5, mp_filter, mp_padding, mp_stride)         # Output size from applying max pooling 3 to conv 5\n",
    "    \n",
    "    outputs_I_need = [mp1, conv2, mp2, conv4, mp3]\n",
    "    \n",
    "    return outputs_I_need\n",
    "\n",
    "def plot_training_history(history, res, loss_upper = 1.05, acc_lower = -0.05, acc_higher = 105):\n",
    "    fig, (ax1, ax2) = plt.subplots(1, 2, figsize=(18, 6))\n",
    "    \n",
    "    \n",
    "    ax1.plot(history['avg_train_loss'], label='train loss',marker = 'o')\n",
    "    ax1.plot(history['avg_valid_loss'], label='validation loss',marker = 'o')\n",
    "\n",
    "    ax1.xaxis.set_major_locator(MaxNLocator(integer=True))\n",
    "    ax1.set_ylim([-0.05, loss_upper])\n",
    "    ax1.legend()\n",
    "    ax1.set_ylabel('Loss',fontsize = 16)\n",
    "    ax1.set_xlabel('Epoch',fontsize = 16)\n",
    "    \n",
    "    ax2.plot(history['train_accuracy'], label='train accuracy',marker = 'o')\n",
    "    ax2.plot(history['valid_accuracy'], label='validation accuracy',marker = 'o')\n",
    "\n",
    "    ax2.xaxis.set_major_locator(MaxNLocator(integer=True))\n",
    "    ax2.set_ylim([acc_lower, acc_higher])\n",
    "\n",
    "    ax2.legend()\n",
    "\n",
    "    ax2.set_ylabel('Accuracy',fontsize = 16)\n",
    "    ax2.yaxis.set_major_formatter(PercentFormatter(100))\n",
    "    ax2.set_xlabel('Epoch',fontsize = 16)\n",
    "    fig.suptitle(f'Training history ({res}*{res})',fontsize = 20)\n",
    "    plt.show()\n",
    "\n",
    "def store_best_results(history):\n",
    "    # Want to take the last entry from each output(best results) and store them all in a Dataframe\n",
    "    placeholder = []\n",
    "    placeholder.append(history['avg_train_loss'][-1])\n",
    "    placeholder.append(history['train_accuracy'][-1])\n",
    "    placeholder.append(history['avg_valid_loss'][-1])\n",
    "    placeholder.append(history['valid_accuracy'][-1])\n",
    "    \n",
    "    return placeholder"
   ]
  },
  {
   "cell_type": "code",
   "execution_count": 4,
   "metadata": {
    "tags": []
   },
   "outputs": [],
   "source": [
    "def put_results_in_df(output):\n",
    "    df = pd.DataFrame()\n",
    "    df['avg_train_loss'] = output['avg_train_loss']\n",
    "    df['train_accuracy'] = output['train_accuracy']\n",
    "    df['avg_valid_loss'] = output['avg_valid_loss']\n",
    "    df['valid_accuracy'] = output['valid_accuracy']\n",
    "    \n",
    "    return df"
   ]
  },
  {
   "cell_type": "markdown",
   "metadata": {},
   "source": [
    "# Spiking CNN and training Loop"
   ]
  },
  {
   "cell_type": "code",
   "execution_count": 5,
   "metadata": {},
   "outputs": [],
   "source": [
    "# Define Network\n",
    "class Rate_LIF_Snn_Net(nn.Module):\n",
    "    def __init__(self,res,spike_grad):\n",
    "        super().__init__()\n",
    "\n",
    "        # Initialize layers\n",
    "        self.fc1 = nn.Linear(res*res, num_hidden)\n",
    "        self.lif1 = snn.Leaky(beta=beta, spike_grad=spike_grad)\n",
    "        self.fc2 = nn.Linear(num_hidden, num_hidden)\n",
    "        self.lif2 = snn.Leaky(beta=beta, spike_grad=spike_grad)\n",
    "        self.fc3 = nn.Linear(num_hidden, num_outputs)\n",
    "        self.lif3 = snn.Leaky(beta=beta, spike_grad=spike_grad)\n",
    "\n",
    "    def forward(self, x):\n",
    "        # Initialize hidden states + output spike at t=0\n",
    "        spk1, mem1 = self.lif1.init_leaky(batch_size, num_hidden)\n",
    "        spk2, mem2 = self.lif2.init_leaky(batch_size, num_hidden)\n",
    "        spk3, mem3 = self.lif3.init_leaky(batch_size, num_outputs)\n",
    "\n",
    "        spk3_rec = []\n",
    "        mem3_rec = []\n",
    "\n",
    "        for step in range(num_steps):\n",
    "            cur1 = self.fc1(x[step])\n",
    "            spk1,  mem1 = self.lif1(cur1, mem1)\n",
    "            cur2 = self.fc2(spk1)\n",
    "            spk2, mem2 = self.lif2(cur2, mem2)\n",
    "            cur3 = self.fc3(spk2)\n",
    "            spk3, mem3 = self.lif3(cur3, mem3)\n",
    "\n",
    "            spk3_rec.append(spk3)\n",
    "            mem3_rec.append(mem3)\n",
    "\n",
    "        return torch.stack(spk3_rec, dim=0), torch.stack(mem3_rec, dim=0)"
   ]
  },
  {
   "cell_type": "code",
   "execution_count": 1,
   "metadata": {},
   "outputs": [
    {
     "data": {
      "text/plain": [
       "0.0005"
      ]
     },
     "execution_count": 1,
     "metadata": {},
     "output_type": "execute_result"
    }
   ],
   "source": [
    "5e-4"
   ]
  },
  {
   "cell_type": "code",
   "execution_count": 6,
   "metadata": {
    "tags": []
   },
   "outputs": [],
   "source": [
    "def train_rate_spiking_mse_model(resolution, train_loader, valid_loader, model, epochs ,device = device, verbose = True):\n",
    "    start_time = time.time()\n",
    "    print('Starting Training')\n",
    "    history = defaultdict(list)\n",
    "    optimizer = torch.optim.Adam(model.parameters(), lr=5e-4, betas=(0.9, 0.999)) # Just an Adam Optimiser\n",
    "    scheduler = torch.optim.lr_scheduler.MultiStepLR(optimizer, milestones=[50], gamma=0.5)\n",
    "    \n",
    "    # Training variables\n",
    "    train_size = len(train_loader.dataset)\n",
    "    train_num_batches = len(train_loader)\n",
    "    \n",
    "    # validation variables\n",
    "    valid_size = len(valid_loader.dataset)\n",
    "    valid_num_batches = len(valid_loader)\n",
    "    \n",
    "    \n",
    "    for t in range(epochs):\n",
    "        \n",
    "        avg_train_loss = 0\n",
    "        correct = 0\n",
    "        avg_valid_loss, valid_correct = 0, 0\n",
    "        model.train()\n",
    "        for batch, (data_it, targets_it) in enumerate(train_loader):\n",
    "            data_it = data_it.to(device)\n",
    "            targets_it = targets_it.to(device)\n",
    "\n",
    "            optimizer.zero_grad()\n",
    "            \n",
    "            # Compute prediction and loss\n",
    "            spike_data = spikegen.rate(data_it, num_steps=num_steps, gain=1, offset=0)\n",
    "            spk_targets_it = torch.clamp(spikegen.to_one_hot(targets_it, 10) * 1.05, min=0.05)\n",
    "            \n",
    "            spk_rec, mem_rec = model(spike_data.view(num_steps,batch_size, -1)) \n",
    "            \n",
    "            # Sum loss over time steps: BPTT\n",
    "            loss = torch.zeros((1), dtype=dtype, device=device)   # creates a 1D tensor to store total loss over time. \n",
    "            for step in range(num_steps):\n",
    "                loss += loss_fn(mem_rec[step], spk_targets_it) # Loss at each time step is added to give total loss.\n",
    "\n",
    "            avg_train_loss += loss\n",
    "            \n",
    "            _, predicted = spk_rec.sum(dim=0).max(1) \n",
    "            correct += (predicted == targets_it).type(torch.float).sum().item()\n",
    "\n",
    "            # Backpropagation\n",
    "            loss.backward()\n",
    "            optimizer.step()\n",
    "\n",
    "        avg_train_loss /= train_num_batches\n",
    "        accuracy = correct / train_size * 100      \n",
    "        history['avg_train_loss'].append(avg_train_loss.item())\n",
    "        history['train_accuracy'].append(accuracy)\n",
    "        \n",
    "        if verbose == True: \n",
    "            print(f\"Epoch {t+1} of {epochs}\")\n",
    "            print('-' * 15)\n",
    "            print(f\"Training Results, Epoch {t+1}:\\n Accuracy: {(accuracy):>0.1f}%, Avg loss: {avg_train_loss.item():>8f} \\n\")\n",
    "\n",
    "              ###################### VALIDATION LOOP ##############################\n",
    "        model.eval()\n",
    "        with torch.no_grad():\n",
    "            for valid_data_it, valid_targets_it in valid_loader:\n",
    "                valid_data_it = valid_data_it.to(device)\n",
    "                valid_targets_it = valid_targets_it.to(device)\n",
    "                \n",
    "                valid_spike_data = spikegen.rate(valid_data_it, num_steps=num_steps, gain=1, offset=0)\n",
    "                valid_spk_targets_it = torch.clamp(spikegen.to_one_hot(targets_it, 10) * 1.05, min=0.05)\n",
    "\n",
    "                valid_spk_rec, valid_mem_rec = model(valid_spike_data.view(num_steps,batch_size, -1)) \n",
    "                \n",
    "                valid_loss = torch.zeros((1),dtype = dtype, device = device)    \n",
    "                for step in range(num_steps):\n",
    "                    valid_loss += loss_fn(valid_mem_rec[step], valid_spk_targets_it)\n",
    "                \n",
    "                avg_valid_loss += valid_loss\n",
    "                \n",
    "                \n",
    "                _, valid_predicted = valid_spk_rec.sum(dim=0).max(1)\n",
    "                valid_correct += (valid_predicted == valid_targets_it).type(torch.float).sum().item()\n",
    "        \n",
    "\n",
    "        avg_valid_loss /= valid_num_batches\n",
    "        valid_accuracy = valid_correct / valid_size * 100\n",
    "              \n",
    "        history['avg_valid_loss'].append(avg_valid_loss.item())\n",
    "        history['valid_accuracy'].append(valid_accuracy)\n",
    "        scheduler.step()\n",
    "        \n",
    "        if verbose == True: \n",
    "            print(f\"Validation Results, Epoch {t+1}: \\n Accuracy: {(valid_accuracy):>0.1f}%, Avg loss: {avg_valid_loss.item():>8f} \\n\")\n",
    "\n",
    "\n",
    "    print(\"Done!\")\n",
    "    print(f\"Final Train Accuracy: {(accuracy):>0.1f}%, and Avg loss: {avg_train_loss.item():>8f} \\n\")\n",
    "    print(f\"Final Validation Accuracy: {(valid_accuracy):>0.1f}%, and Avg loss: {avg_valid_loss.item():>8f} \\n\")\n",
    "    current_time = time.time()\n",
    "    total = current_time - start_time\n",
    "    print(f'Training time: {round(total/60,2)} minutes')\n",
    "    return history\n",
    "\n",
    "def get_rate_mse_snn_results(resolution,epochs = 20,ratio = 1, slope = 25, verbose = True):\n",
    "    spike_grad = surrogate.fast_sigmoid(slope = slope)\n",
    "    train, valid = load_in_data(resolution, ratio)\n",
    "    model = Rate_LIF_Snn_Net(resolution, spike_grad).to(device)\n",
    "\n",
    "    output = train_rate_spiking_mse_model(resolution, train,valid,model,epochs, verbose = verbose)\n",
    "    \n",
    "    return output\n",
    "\n",
    "#plot_training_history(output,resolution, ylimita = loss_upper, ylimitb_lower = acc_lower, ylimitb_upper = acc_higher)"
   ]
  },
  {
   "cell_type": "markdown",
   "metadata": {},
   "source": [
    "# Training models"
   ]
  },
  {
   "cell_type": "markdown",
   "metadata": {},
   "source": [
    "## 56 * 56"
   ]
  },
  {
   "cell_type": "code",
   "execution_count": 7,
   "metadata": {
    "tags": []
   },
   "outputs": [
    {
     "name": "stdout",
     "output_type": "stream",
     "text": [
      "Starting Training\n",
      "Done!\n",
      "Final Train Accuracy: 99.7%, and Avg loss: 0.378246 \n",
      "\n",
      "Final Validation Accuracy: 97.8%, and Avg loss: 4.397544 \n",
      "\n",
      "Training time: 28.07 minutes\n"
     ]
    }
   ],
   "source": [
    "batch_size = 128\n",
    "output_56_r1 = get_rate_mse_snn_results(resolution = 56, ratio = 1, epochs = 75, slope = 5, verbose = False)"
   ]
  },
  {
   "cell_type": "code",
   "execution_count": 8,
   "metadata": {
    "tags": []
   },
   "outputs": [
    {
     "name": "stdout",
     "output_type": "stream",
     "text": [
      "Starting Training\n",
      "Done!\n",
      "Final Train Accuracy: 99.8%, and Avg loss: 0.391042 \n",
      "\n",
      "Final Validation Accuracy: 96.4%, and Avg loss: 4.384388 \n",
      "\n",
      "Training time: 8.94 minutes\n"
     ]
    }
   ],
   "source": [
    "batch_size = 128\n",
    "output_56_r4 = get_rate_mse_snn_results(resolution = 56, ratio = 4, epochs = 75, slope = 5, verbose = False)"
   ]
  },
  {
   "cell_type": "code",
   "execution_count": 9,
   "metadata": {},
   "outputs": [
    {
     "name": "stdout",
     "output_type": "stream",
     "text": [
      "Starting Training\n",
      "Done!\n",
      "Final Train Accuracy: 99.7%, and Avg loss: 0.381856 \n",
      "\n",
      "Final Validation Accuracy: 95.4%, and Avg loss: 4.401330 \n",
      "\n",
      "Training time: 13.82 minutes\n"
     ]
    }
   ],
   "source": [
    "batch_size = 32\n",
    "output_56_r10 = get_rate_mse_snn_results(resolution = 56, ratio = 10, epochs = 75, slope = 5, verbose = False)"
   ]
  },
  {
   "cell_type": "code",
   "execution_count": 10,
   "metadata": {},
   "outputs": [
    {
     "name": "stdout",
     "output_type": "stream",
     "text": [
      "Starting Training\n",
      "Done!\n",
      "Final Train Accuracy: 96.0%, and Avg loss: 0.564036 \n",
      "\n",
      "Final Validation Accuracy: 90.1%, and Avg loss: 4.349901 \n",
      "\n",
      "Training time: 7.18 minutes\n"
     ]
    }
   ],
   "source": [
    "batch_size = 32\n",
    "output_56_r100 = get_rate_mse_snn_results(resolution = 56, ratio = 100, epochs = 75, slope = 5, verbose = False)"
   ]
  },
  {
   "cell_type": "markdown",
   "metadata": {},
   "source": [
    "## 28 * 28"
   ]
  },
  {
   "cell_type": "code",
   "execution_count": 11,
   "metadata": {},
   "outputs": [
    {
     "name": "stdout",
     "output_type": "stream",
     "text": [
      "Starting Training\n",
      "Done!\n",
      "Final Train Accuracy: 99.8%, and Avg loss: 0.374357 \n",
      "\n",
      "Final Validation Accuracy: 98.1%, and Avg loss: 4.490624 \n",
      "\n",
      "Training time: 24.72 minutes\n"
     ]
    }
   ],
   "source": [
    "batch_size = 128\n",
    "output_28_r1 = get_rate_mse_snn_results(resolution = 28, ratio = 1, epochs = 75, slope = 5, verbose = False)"
   ]
  },
  {
   "cell_type": "code",
   "execution_count": 12,
   "metadata": {},
   "outputs": [
    {
     "name": "stdout",
     "output_type": "stream",
     "text": [
      "Starting Training\n",
      "Done!\n",
      "Final Train Accuracy: 99.8%, and Avg loss: 0.369790 \n",
      "\n",
      "Final Validation Accuracy: 97.2%, and Avg loss: 4.459857 \n",
      "\n",
      "Training time: 7.74 minutes\n"
     ]
    }
   ],
   "source": [
    "batch_size = 128\n",
    "output_28_r4 = get_rate_mse_snn_results(resolution = 28, ratio = 4, epochs = 75, slope = 5, verbose = False)"
   ]
  },
  {
   "cell_type": "code",
   "execution_count": 13,
   "metadata": {},
   "outputs": [
    {
     "name": "stdout",
     "output_type": "stream",
     "text": [
      "Starting Training\n",
      "Done!\n",
      "Final Train Accuracy: 99.7%, and Avg loss: 0.373571 \n",
      "\n",
      "Final Validation Accuracy: 96.0%, and Avg loss: 4.497210 \n",
      "\n",
      "Training time: 12.96 minutes\n"
     ]
    }
   ],
   "source": [
    "batch_size = 32\n",
    "output_28_r10 = get_rate_mse_snn_results(resolution = 28, ratio = 10, epochs = 75, slope = 5, verbose = False)"
   ]
  },
  {
   "cell_type": "code",
   "execution_count": 14,
   "metadata": {},
   "outputs": [
    {
     "name": "stdout",
     "output_type": "stream",
     "text": [
      "Starting Training\n",
      "Done!\n",
      "Final Train Accuracy: 96.0%, and Avg loss: 0.679214 \n",
      "\n",
      "Final Validation Accuracy: 90.4%, and Avg loss: 4.289697 \n",
      "\n",
      "Training time: 6.66 minutes\n"
     ]
    }
   ],
   "source": [
    "batch_size = 32\n",
    "output_28_r100 = get_rate_mse_snn_results(resolution = 28, ratio = 100, epochs = 75, slope = 5, verbose = False)"
   ]
  },
  {
   "cell_type": "markdown",
   "metadata": {},
   "source": [
    "# 14 * 14"
   ]
  },
  {
   "cell_type": "code",
   "execution_count": 15,
   "metadata": {},
   "outputs": [
    {
     "name": "stdout",
     "output_type": "stream",
     "text": [
      "Starting Training\n",
      "Done!\n",
      "Final Train Accuracy: 99.6%, and Avg loss: 0.478637 \n",
      "\n",
      "Final Validation Accuracy: 98.2%, and Avg loss: 4.341120 \n",
      "\n",
      "Training time: 42.12 minutes\n"
     ]
    }
   ],
   "source": [
    "batch_size = 64\n",
    "output_14_r1 = get_rate_mse_snn_results(resolution = 14, ratio = 1, epochs = 75, slope = 5, verbose = False)"
   ]
  },
  {
   "cell_type": "code",
   "execution_count": 16,
   "metadata": {},
   "outputs": [
    {
     "name": "stdout",
     "output_type": "stream",
     "text": [
      "Starting Training\n",
      "Done!\n",
      "Final Train Accuracy: 99.4%, and Avg loss: 0.549297 \n",
      "\n",
      "Final Validation Accuracy: 97.3%, and Avg loss: 4.362268 \n",
      "\n",
      "Training time: 7.87 minutes\n"
     ]
    }
   ],
   "source": [
    "batch_size = 128\n",
    "output_14_r4 = get_rate_mse_snn_results(resolution = 14, ratio = 4, epochs = 75, slope = 5, verbose = False)"
   ]
  },
  {
   "cell_type": "code",
   "execution_count": 17,
   "metadata": {},
   "outputs": [
    {
     "name": "stdout",
     "output_type": "stream",
     "text": [
      "Starting Training\n",
      "Done!\n",
      "Final Train Accuracy: 99.6%, and Avg loss: 0.524845 \n",
      "\n",
      "Final Validation Accuracy: 96.5%, and Avg loss: 4.376784 \n",
      "\n",
      "Training time: 13.0 minutes\n"
     ]
    }
   ],
   "source": [
    "batch_size = 32\n",
    "output_14_r10 = get_rate_mse_snn_results(resolution = 14, ratio = 10, epochs = 75, slope = 5, verbose = False)"
   ]
  },
  {
   "cell_type": "code",
   "execution_count": 18,
   "metadata": {},
   "outputs": [
    {
     "name": "stdout",
     "output_type": "stream",
     "text": [
      "Starting Training\n",
      "Done!\n",
      "Final Train Accuracy: 96.0%, and Avg loss: 0.885986 \n",
      "\n",
      "Final Validation Accuracy: 92.0%, and Avg loss: 4.400379 \n",
      "\n",
      "Training time: 6.66 minutes\n"
     ]
    }
   ],
   "source": [
    "batch_size = 32\n",
    "output_14_r100 = get_rate_mse_snn_results(resolution = 14, ratio = 100, epochs = 75, slope = 5, verbose = False)"
   ]
  },
  {
   "cell_type": "markdown",
   "metadata": {},
   "source": [
    "## 7 * 7"
   ]
  },
  {
   "cell_type": "code",
   "execution_count": 19,
   "metadata": {},
   "outputs": [
    {
     "name": "stdout",
     "output_type": "stream",
     "text": [
      "Starting Training\n",
      "Done!\n",
      "Final Train Accuracy: 90.4%, and Avg loss: 1.024964 \n",
      "\n",
      "Final Validation Accuracy: 90.3%, and Avg loss: 4.011859 \n",
      "\n",
      "Training time: 24.72 minutes\n"
     ]
    }
   ],
   "source": [
    "batch_size = 128\n",
    "output_7_r1 = get_rate_mse_snn_results(resolution = 7, ratio = 1, epochs = 75, slope = 5, verbose = False)"
   ]
  },
  {
   "cell_type": "code",
   "execution_count": 20,
   "metadata": {
    "tags": []
   },
   "outputs": [
    {
     "data": {
      "image/png": "[encoded data removed]",
      "text/plain": [
       "<Figure size 1296x432 with 2 Axes>"
      ]
     },
     "metadata": {
      "needs_background": "light"
     },
     "output_type": "display_data"
    }
   ],
   "source": [
    "plot_training_history(output_7_r1,7, acc_lower = 80)"
   ]
  },
  {
   "cell_type": "code",
   "execution_count": 21,
   "metadata": {},
   "outputs": [
    {
     "name": "stdout",
     "output_type": "stream",
     "text": [
      "Starting Training\n",
      "Done!\n",
      "Final Train Accuracy: 88.7%, and Avg loss: 1.164321 \n",
      "\n",
      "Final Validation Accuracy: 88.5%, and Avg loss: 4.067435 \n",
      "\n",
      "Training time: 7.74 minutes\n"
     ]
    }
   ],
   "source": [
    "batch_size = 128\n",
    "output_7_r4 = get_rate_mse_snn_results(resolution = 7, ratio = 4, epochs = 75, slope = 5, verbose = False)"
   ]
  },
  {
   "cell_type": "code",
   "execution_count": 22,
   "metadata": {},
   "outputs": [
    {
     "name": "stdout",
     "output_type": "stream",
     "text": [
      "Starting Training\n",
      "Done!\n",
      "Final Train Accuracy: 88.3%, and Avg loss: 1.188276 \n",
      "\n",
      "Final Validation Accuracy: 88.6%, and Avg loss: 4.088464 \n",
      "\n",
      "Training time: 12.74 minutes\n"
     ]
    }
   ],
   "source": [
    "batch_size = 32\n",
    "output_7_r10 = get_rate_mse_snn_results(resolution = 7, ratio = 10, epochs = 75, slope = 5, verbose = False)"
   ]
  },
  {
   "cell_type": "code",
   "execution_count": 23,
   "metadata": {},
   "outputs": [
    {
     "name": "stdout",
     "output_type": "stream",
     "text": [
      "Starting Training\n",
      "Done!\n",
      "Final Train Accuracy: 86.5%, and Avg loss: 1.513766 \n",
      "\n",
      "Final Validation Accuracy: 83.9%, and Avg loss: 4.155425 \n",
      "\n",
      "Training time: 6.47 minutes\n"
     ]
    }
   ],
   "source": [
    "batch_size = 32\n",
    "output_7_r100 = get_rate_mse_snn_results(resolution = 7, ratio = 100, epochs = 75, slope = 5, verbose = False)"
   ]
  },
  {
   "cell_type": "markdown",
   "metadata": {},
   "source": [
    "# Saving Results"
   ]
  },
  {
   "cell_type": "code",
   "execution_count": null,
   "metadata": {
    "jupyter": {
     "source_hidden": true
    },
    "tags": []
   },
   "outputs": [],
   "source": [
    "output_56_r1\n",
    "output_56_r4\n",
    "output_56_r10\n",
    "output_56_r100\n",
    "\n",
    "output_28_r1\n",
    "output_28_r4\n",
    "output_28_r10\n",
    "output_28_r100\n",
    "\n",
    "output_14_r1\n",
    "output_14_r4\n",
    "output_14_r10\n",
    "output_14_r100\n",
    "\n",
    "output_7_r1\n",
    "output_7_r4\n",
    "output_7_r10\n",
    "output_7_r100"
   ]
  },
  {
   "cell_type": "code",
   "execution_count": 24,
   "metadata": {},
   "outputs": [],
   "source": [
    "output_res = ['output_56', 'output_28', 'output_14','output_7']\n",
    "output_ratio = ['_r1','_r4','_r10','_r100']\n",
    "index = ['avg_train_loss', 'train_accuracy', 'avg_valid_loss', 'valid_accuracy']"
   ]
  },
  {
   "cell_type": "code",
   "execution_count": 25,
   "metadata": {},
   "outputs": [],
   "source": [
    "all_columns = []\n",
    "all_models = []\n",
    "for name in output_res:\n",
    "    for ratio in output_ratio: \n",
    "        model_name = name + ratio\n",
    "        all_models.append(model_name)\n",
    "        for indice in index: \n",
    "            column_name = name + ratio + '_' + indice\n",
    "            all_columns.append(column_name)"
   ]
  },
  {
   "cell_type": "code",
   "execution_count": 26,
   "metadata": {},
   "outputs": [
    {
     "data": {
      "text/plain": [
       "dict_keys(['avg_train_loss', 'train_accuracy', 'avg_valid_loss', 'valid_accuracy'])"
      ]
     },
     "execution_count": 26,
     "metadata": {},
     "output_type": "execute_result"
    }
   ],
   "source": [
    "output_56_r1.keys()"
   ]
  },
  {
   "cell_type": "code",
   "execution_count": 95,
   "metadata": {
    "collapsed": true,
    "jupyter": {
     "outputs_hidden": true
    }
   },
   "outputs": [
    {
     "data": {
      "text/plain": [
       "[0.13006120920181274,\n",
       " 0.042799513787031174,\n",
       " 0.03713303059339523,\n",
       " 0.06466007232666016,\n",
       " 0.015814419835805893,\n",
       " 0.03430761396884918,\n",
       " 0.0019204705022275448,\n",
       " 0.011888238601386547,\n",
       " 0.0019352637464180589,\n",
       " 0.008182739838957787,\n",
       " 0.017129648476839066,\n",
       " 0.02643691748380661,\n",
       " 0.0015373200876638293,\n",
       " 0.14406420290470123,\n",
       " 0.000397319789044559,\n",
       " 0.007249984424561262,\n",
       " 0.04614896699786186,\n",
       " 0.07822474092245102,\n",
       " 0.0012644941452890635,\n",
       " 0.0038358275778591633,\n",
       " 0.00786791555583477,\n",
       " 0.000664190505631268,\n",
       " 0.001168444869108498,\n",
       " 0.0002316593745490536,\n",
       " 0.005893235560506582,\n",
       " 0.0007707395707257092,\n",
       " 0.0001737207785481587,\n",
       " 3.402635411475785e-05,\n",
       " 3.451213342486881e-05,\n",
       " 5.471266194945201e-05,\n",
       " 0.0008975357632152736,\n",
       " 0.00015174300642684102,\n",
       " 0.0006222904194146395,\n",
       " 5.256674285192275e-06,\n",
       " 7.913309673313051e-06,\n",
       " 0.00016171134484466165,\n",
       " 0.000734230678062886,\n",
       " 1.4118486433289945e-05,\n",
       " 0.01709653064608574,\n",
       " 2.1993864720570855e-05,\n",
       " 1.7628976820560638e-06,\n",
       " 0.022050853818655014,\n",
       " 7.068630907269835e-07,\n",
       " 1.3781431334791705e-05,\n",
       " 0.0013350488152354956,\n",
       " 0.003219502279534936,\n",
       " 2.711762817853014e-06,\n",
       " 3.430059223319404e-05,\n",
       " 0.001625832635909319,\n",
       " 9.797412303669262e-07,\n",
       " 0.00045810462324880064,\n",
       " 4.594902748067398e-06,\n",
       " 1.704303684846309e-07,\n",
       " 9.631192369852215e-05,\n",
       " 7.178925898188027e-06,\n",
       " 4.1965745367633644e-06,\n",
       " 2.5238588818865537e-07,\n",
       " 8.284423529403284e-06,\n",
       " 8.11660211184062e-05,\n",
       " 0.0004598332161549479,\n",
       " 5.503922579919163e-07,\n",
       " 8.004375558812171e-06,\n",
       " 0.0005502012209035456,\n",
       " 4.824157144867058e-07,\n",
       " 1.9278174079317978e-07,\n",
       " 6.183738037179864e-07,\n",
       " 2.3841647589506465e-07,\n",
       " 0.0005763408844359219,\n",
       " 7.0311452873284e-06,\n",
       " 1.2944764193889569e-06,\n",
       " 1.667062292654009e-07,\n",
       " 1.3800985243506148e-06,\n",
       " 2.1669002308044583e-06,\n",
       " 2.235172047448941e-08,\n",
       " 8.381901395182467e-09]"
      ]
     },
     "execution_count": 95,
     "metadata": {},
     "output_type": "execute_result"
    }
   ],
   "source": [
    "locals()[all_models[0]]['avg_train_loss']"
   ]
  },
  {
   "cell_type": "code",
   "execution_count": 27,
   "metadata": {},
   "outputs": [],
   "source": [
    "df = pd.DataFrame()\n",
    "for entry in all_models:\n",
    "    for key in index:\n",
    "        string = entry + '_' + key\n",
    "        \n",
    "        df[string] = locals()[entry][key]"
   ]
  },
  {
   "cell_type": "code",
   "execution_count": 28,
   "metadata": {},
   "outputs": [
    {
     "data": {
      "text/html": [
       "<div>\n",
       "<style scoped>\n",
       "    .dataframe tbody tr th:only-of-type {\n",
       "        vertical-align: middle;\n",
       "    }\n",
       "\n",
       "    .dataframe tbody tr th {\n",
       "        vertical-align: top;\n",
       "    }\n",
       "\n",
       "    .dataframe thead th {\n",
       "        text-align: right;\n",
       "    }\n",
       "</style>\n",
       "<table border=\"1\" class=\"dataframe\">\n",
       "  <thead>\n",
       "    <tr style=\"text-align: right;\">\n",
       "      <th></th>\n",
       "      <th>output_56_r1_avg_train_loss</th>\n",
       "      <th>output_56_r1_train_accuracy</th>\n",
       "      <th>output_56_r1_avg_valid_loss</th>\n",
       "      <th>output_56_r1_valid_accuracy</th>\n",
       "      <th>output_56_r4_avg_train_loss</th>\n",
       "      <th>output_56_r4_train_accuracy</th>\n",
       "      <th>output_56_r4_avg_valid_loss</th>\n",
       "      <th>output_56_r4_valid_accuracy</th>\n",
       "      <th>output_56_r10_avg_train_loss</th>\n",
       "      <th>output_56_r10_train_accuracy</th>\n",
       "      <th>...</th>\n",
       "      <th>output_7_r4_avg_valid_loss</th>\n",
       "      <th>output_7_r4_valid_accuracy</th>\n",
       "      <th>output_7_r10_avg_train_loss</th>\n",
       "      <th>output_7_r10_train_accuracy</th>\n",
       "      <th>output_7_r10_avg_valid_loss</th>\n",
       "      <th>output_7_r10_valid_accuracy</th>\n",
       "      <th>output_7_r100_avg_train_loss</th>\n",
       "      <th>output_7_r100_train_accuracy</th>\n",
       "      <th>output_7_r100_avg_valid_loss</th>\n",
       "      <th>output_7_r100_valid_accuracy</th>\n",
       "    </tr>\n",
       "  </thead>\n",
       "  <tbody>\n",
       "    <tr>\n",
       "      <th>0</th>\n",
       "      <td>1.236469</td>\n",
       "      <td>87.881667</td>\n",
       "      <td>4.254372</td>\n",
       "      <td>94.92</td>\n",
       "      <td>1.824880</td>\n",
       "      <td>71.193333</td>\n",
       "      <td>4.293531</td>\n",
       "      <td>91.42</td>\n",
       "      <td>1.802772</td>\n",
       "      <td>70.233333</td>\n",
       "      <td>...</td>\n",
       "      <td>3.482444</td>\n",
       "      <td>59.48</td>\n",
       "      <td>2.231980</td>\n",
       "      <td>32.100000</td>\n",
       "      <td>3.329620</td>\n",
       "      <td>61.52</td>\n",
       "      <td>3.421453</td>\n",
       "      <td>9.166667</td>\n",
       "      <td>3.212257</td>\n",
       "      <td>9.76</td>\n",
       "    </tr>\n",
       "    <tr>\n",
       "      <th>1</th>\n",
       "      <td>0.861184</td>\n",
       "      <td>95.898333</td>\n",
       "      <td>4.317929</td>\n",
       "      <td>96.46</td>\n",
       "      <td>1.191878</td>\n",
       "      <td>92.733333</td>\n",
       "      <td>4.343641</td>\n",
       "      <td>93.24</td>\n",
       "      <td>1.196781</td>\n",
       "      <td>91.416667</td>\n",
       "      <td>...</td>\n",
       "      <td>3.676816</td>\n",
       "      <td>71.62</td>\n",
       "      <td>1.769224</td>\n",
       "      <td>67.550000</td>\n",
       "      <td>3.775719</td>\n",
       "      <td>75.03</td>\n",
       "      <td>2.648777</td>\n",
       "      <td>10.000000</td>\n",
       "      <td>3.091301</td>\n",
       "      <td>11.05</td>\n",
       "    </tr>\n",
       "    <tr>\n",
       "      <th>2</th>\n",
       "      <td>0.762941</td>\n",
       "      <td>96.913333</td>\n",
       "      <td>4.350169</td>\n",
       "      <td>96.60</td>\n",
       "      <td>1.019259</td>\n",
       "      <td>94.740000</td>\n",
       "      <td>4.314682</td>\n",
       "      <td>94.32</td>\n",
       "      <td>1.017169</td>\n",
       "      <td>93.983333</td>\n",
       "      <td>...</td>\n",
       "      <td>3.823588</td>\n",
       "      <td>77.53</td>\n",
       "      <td>1.666852</td>\n",
       "      <td>74.333333</td>\n",
       "      <td>3.872702</td>\n",
       "      <td>77.68</td>\n",
       "      <td>2.347013</td>\n",
       "      <td>13.500000</td>\n",
       "      <td>3.142592</td>\n",
       "      <td>19.10</td>\n",
       "    </tr>\n",
       "    <tr>\n",
       "      <th>3</th>\n",
       "      <td>0.706059</td>\n",
       "      <td>97.428333</td>\n",
       "      <td>4.361654</td>\n",
       "      <td>96.91</td>\n",
       "      <td>0.925328</td>\n",
       "      <td>95.773333</td>\n",
       "      <td>4.332899</td>\n",
       "      <td>95.09</td>\n",
       "      <td>0.916132</td>\n",
       "      <td>95.450000</td>\n",
       "      <td>...</td>\n",
       "      <td>4.001494</td>\n",
       "      <td>81.86</td>\n",
       "      <td>1.629847</td>\n",
       "      <td>77.133333</td>\n",
       "      <td>3.937648</td>\n",
       "      <td>80.55</td>\n",
       "      <td>2.225049</td>\n",
       "      <td>21.166667</td>\n",
       "      <td>3.163729</td>\n",
       "      <td>27.91</td>\n",
       "    </tr>\n",
       "    <tr>\n",
       "      <th>4</th>\n",
       "      <td>0.661159</td>\n",
       "      <td>97.760000</td>\n",
       "      <td>4.410675</td>\n",
       "      <td>97.01</td>\n",
       "      <td>0.859063</td>\n",
       "      <td>96.560000</td>\n",
       "      <td>4.285552</td>\n",
       "      <td>95.52</td>\n",
       "      <td>0.860212</td>\n",
       "      <td>96.216667</td>\n",
       "      <td>...</td>\n",
       "      <td>4.038558</td>\n",
       "      <td>83.01</td>\n",
       "      <td>1.611562</td>\n",
       "      <td>80.450000</td>\n",
       "      <td>3.917810</td>\n",
       "      <td>81.81</td>\n",
       "      <td>2.166100</td>\n",
       "      <td>30.666667</td>\n",
       "      <td>3.207436</td>\n",
       "      <td>39.42</td>\n",
       "    </tr>\n",
       "    <tr>\n",
       "      <th>...</th>\n",
       "      <td>...</td>\n",
       "      <td>...</td>\n",
       "      <td>...</td>\n",
       "      <td>...</td>\n",
       "      <td>...</td>\n",
       "      <td>...</td>\n",
       "      <td>...</td>\n",
       "      <td>...</td>\n",
       "      <td>...</td>\n",
       "      <td>...</td>\n",
       "      <td>...</td>\n",
       "      <td>...</td>\n",
       "      <td>...</td>\n",
       "      <td>...</td>\n",
       "      <td>...</td>\n",
       "      <td>...</td>\n",
       "      <td>...</td>\n",
       "      <td>...</td>\n",
       "      <td>...</td>\n",
       "      <td>...</td>\n",
       "      <td>...</td>\n",
       "    </tr>\n",
       "    <tr>\n",
       "      <th>70</th>\n",
       "      <td>0.379313</td>\n",
       "      <td>99.713333</td>\n",
       "      <td>4.396052</td>\n",
       "      <td>97.78</td>\n",
       "      <td>0.381202</td>\n",
       "      <td>99.833333</td>\n",
       "      <td>4.384593</td>\n",
       "      <td>96.48</td>\n",
       "      <td>0.380402</td>\n",
       "      <td>99.733333</td>\n",
       "      <td>...</td>\n",
       "      <td>4.095155</td>\n",
       "      <td>88.70</td>\n",
       "      <td>1.208241</td>\n",
       "      <td>88.066667</td>\n",
       "      <td>4.110886</td>\n",
       "      <td>88.35</td>\n",
       "      <td>1.540018</td>\n",
       "      <td>83.833333</td>\n",
       "      <td>4.188341</td>\n",
       "      <td>83.76</td>\n",
       "    </tr>\n",
       "    <tr>\n",
       "      <th>71</th>\n",
       "      <td>0.378379</td>\n",
       "      <td>99.713333</td>\n",
       "      <td>4.374744</td>\n",
       "      <td>97.64</td>\n",
       "      <td>0.382697</td>\n",
       "      <td>99.833333</td>\n",
       "      <td>4.374391</td>\n",
       "      <td>96.56</td>\n",
       "      <td>0.379211</td>\n",
       "      <td>99.733333</td>\n",
       "      <td>...</td>\n",
       "      <td>4.090068</td>\n",
       "      <td>89.03</td>\n",
       "      <td>1.200703</td>\n",
       "      <td>88.166667</td>\n",
       "      <td>4.086699</td>\n",
       "      <td>88.02</td>\n",
       "      <td>1.503848</td>\n",
       "      <td>85.500000</td>\n",
       "      <td>4.206891</td>\n",
       "      <td>83.77</td>\n",
       "    </tr>\n",
       "    <tr>\n",
       "      <th>72</th>\n",
       "      <td>0.378047</td>\n",
       "      <td>99.710000</td>\n",
       "      <td>4.349506</td>\n",
       "      <td>97.74</td>\n",
       "      <td>0.382436</td>\n",
       "      <td>99.833333</td>\n",
       "      <td>4.389956</td>\n",
       "      <td>96.71</td>\n",
       "      <td>0.378228</td>\n",
       "      <td>99.733333</td>\n",
       "      <td>...</td>\n",
       "      <td>4.086252</td>\n",
       "      <td>88.50</td>\n",
       "      <td>1.185894</td>\n",
       "      <td>87.700000</td>\n",
       "      <td>4.137902</td>\n",
       "      <td>87.68</td>\n",
       "      <td>1.496451</td>\n",
       "      <td>85.166667</td>\n",
       "      <td>4.175988</td>\n",
       "      <td>83.88</td>\n",
       "    </tr>\n",
       "    <tr>\n",
       "      <th>73</th>\n",
       "      <td>0.378797</td>\n",
       "      <td>99.711667</td>\n",
       "      <td>4.354722</td>\n",
       "      <td>97.75</td>\n",
       "      <td>0.386458</td>\n",
       "      <td>99.833333</td>\n",
       "      <td>4.378465</td>\n",
       "      <td>96.44</td>\n",
       "      <td>0.381344</td>\n",
       "      <td>99.733333</td>\n",
       "      <td>...</td>\n",
       "      <td>4.070506</td>\n",
       "      <td>89.01</td>\n",
       "      <td>1.188205</td>\n",
       "      <td>88.066667</td>\n",
       "      <td>4.086351</td>\n",
       "      <td>88.21</td>\n",
       "      <td>1.509731</td>\n",
       "      <td>85.000000</td>\n",
       "      <td>4.224326</td>\n",
       "      <td>84.01</td>\n",
       "    </tr>\n",
       "    <tr>\n",
       "      <th>74</th>\n",
       "      <td>0.378246</td>\n",
       "      <td>99.721667</td>\n",
       "      <td>4.397544</td>\n",
       "      <td>97.84</td>\n",
       "      <td>0.391042</td>\n",
       "      <td>99.833333</td>\n",
       "      <td>4.384388</td>\n",
       "      <td>96.41</td>\n",
       "      <td>0.381856</td>\n",
       "      <td>99.733333</td>\n",
       "      <td>...</td>\n",
       "      <td>4.067435</td>\n",
       "      <td>88.47</td>\n",
       "      <td>1.188276</td>\n",
       "      <td>88.283333</td>\n",
       "      <td>4.088464</td>\n",
       "      <td>88.61</td>\n",
       "      <td>1.513766</td>\n",
       "      <td>86.500000</td>\n",
       "      <td>4.155425</td>\n",
       "      <td>83.94</td>\n",
       "    </tr>\n",
       "  </tbody>\n",
       "</table>\n",
       "<p>75 rows × 64 columns</p>\n",
       "</div>"
      ],
      "text/plain": [
       "    output_56_r1_avg_train_loss  output_56_r1_train_accuracy  \\\n",
       "0                      1.236469                    87.881667   \n",
       "1                      0.861184                    95.898333   \n",
       "2                      0.762941                    96.913333   \n",
       "3                      0.706059                    97.428333   \n",
       "4                      0.661159                    97.760000   \n",
       "..                          ...                          ...   \n",
       "70                     0.379313                    99.713333   \n",
       "71                     0.378379                    99.713333   \n",
       "72                     0.378047                    99.710000   \n",
       "73                     0.378797                    99.711667   \n",
       "74                     0.378246                    99.721667   \n",
       "\n",
       "    output_56_r1_avg_valid_loss  output_56_r1_valid_accuracy  \\\n",
       "0                      4.254372                        94.92   \n",
       "1                      4.317929                        96.46   \n",
       "2                      4.350169                        96.60   \n",
       "3                      4.361654                        96.91   \n",
       "4                      4.410675                        97.01   \n",
       "..                          ...                          ...   \n",
       "70                     4.396052                        97.78   \n",
       "71                     4.374744                        97.64   \n",
       "72                     4.349506                        97.74   \n",
       "73                     4.354722                        97.75   \n",
       "74                     4.397544                        97.84   \n",
       "\n",
       "    output_56_r4_avg_train_loss  output_56_r4_train_accuracy  \\\n",
       "0                      1.824880                    71.193333   \n",
       "1                      1.191878                    92.733333   \n",
       "2                      1.019259                    94.740000   \n",
       "3                      0.925328                    95.773333   \n",
       "4                      0.859063                    96.560000   \n",
       "..                          ...                          ...   \n",
       "70                     0.381202                    99.833333   \n",
       "71                     0.382697                    99.833333   \n",
       "72                     0.382436                    99.833333   \n",
       "73                     0.386458                    99.833333   \n",
       "74                     0.391042                    99.833333   \n",
       "\n",
       "    output_56_r4_avg_valid_loss  output_56_r4_valid_accuracy  \\\n",
       "0                      4.293531                        91.42   \n",
       "1                      4.343641                        93.24   \n",
       "2                      4.314682                        94.32   \n",
       "3                      4.332899                        95.09   \n",
       "4                      4.285552                        95.52   \n",
       "..                          ...                          ...   \n",
       "70                     4.384593                        96.48   \n",
       "71                     4.374391                        96.56   \n",
       "72                     4.389956                        96.71   \n",
       "73                     4.378465                        96.44   \n",
       "74                     4.384388                        96.41   \n",
       "\n",
       "    output_56_r10_avg_train_loss  output_56_r10_train_accuracy  ...  \\\n",
       "0                       1.802772                     70.233333  ...   \n",
       "1                       1.196781                     91.416667  ...   \n",
       "2                       1.017169                     93.983333  ...   \n",
       "3                       0.916132                     95.450000  ...   \n",
       "4                       0.860212                     96.216667  ...   \n",
       "..                           ...                           ...  ...   \n",
       "70                      0.380402                     99.733333  ...   \n",
       "71                      0.379211                     99.733333  ...   \n",
       "72                      0.378228                     99.733333  ...   \n",
       "73                      0.381344                     99.733333  ...   \n",
       "74                      0.381856                     99.733333  ...   \n",
       "\n",
       "    output_7_r4_avg_valid_loss  output_7_r4_valid_accuracy  \\\n",
       "0                     3.482444                       59.48   \n",
       "1                     3.676816                       71.62   \n",
       "2                     3.823588                       77.53   \n",
       "3                     4.001494                       81.86   \n",
       "4                     4.038558                       83.01   \n",
       "..                         ...                         ...   \n",
       "70                    4.095155                       88.70   \n",
       "71                    4.090068                       89.03   \n",
       "72                    4.086252                       88.50   \n",
       "73                    4.070506                       89.01   \n",
       "74                    4.067435                       88.47   \n",
       "\n",
       "    output_7_r10_avg_train_loss  output_7_r10_train_accuracy  \\\n",
       "0                      2.231980                    32.100000   \n",
       "1                      1.769224                    67.550000   \n",
       "2                      1.666852                    74.333333   \n",
       "3                      1.629847                    77.133333   \n",
       "4                      1.611562                    80.450000   \n",
       "..                          ...                          ...   \n",
       "70                     1.208241                    88.066667   \n",
       "71                     1.200703                    88.166667   \n",
       "72                     1.185894                    87.700000   \n",
       "73                     1.188205                    88.066667   \n",
       "74                     1.188276                    88.283333   \n",
       "\n",
       "    output_7_r10_avg_valid_loss  output_7_r10_valid_accuracy  \\\n",
       "0                      3.329620                        61.52   \n",
       "1                      3.775719                        75.03   \n",
       "2                      3.872702                        77.68   \n",
       "3                      3.937648                        80.55   \n",
       "4                      3.917810                        81.81   \n",
       "..                          ...                          ...   \n",
       "70                     4.110886                        88.35   \n",
       "71                     4.086699                        88.02   \n",
       "72                     4.137902                        87.68   \n",
       "73                     4.086351                        88.21   \n",
       "74                     4.088464                        88.61   \n",
       "\n",
       "    output_7_r100_avg_train_loss  output_7_r100_train_accuracy  \\\n",
       "0                       3.421453                      9.166667   \n",
       "1                       2.648777                     10.000000   \n",
       "2                       2.347013                     13.500000   \n",
       "3                       2.225049                     21.166667   \n",
       "4                       2.166100                     30.666667   \n",
       "..                           ...                           ...   \n",
       "70                      1.540018                     83.833333   \n",
       "71                      1.503848                     85.500000   \n",
       "72                      1.496451                     85.166667   \n",
       "73                      1.509731                     85.000000   \n",
       "74                      1.513766                     86.500000   \n",
       "\n",
       "    output_7_r100_avg_valid_loss  output_7_r100_valid_accuracy  \n",
       "0                       3.212257                          9.76  \n",
       "1                       3.091301                         11.05  \n",
       "2                       3.142592                         19.10  \n",
       "3                       3.163729                         27.91  \n",
       "4                       3.207436                         39.42  \n",
       "..                           ...                           ...  \n",
       "70                      4.188341                         83.76  \n",
       "71                      4.206891                         83.77  \n",
       "72                      4.175988                         83.88  \n",
       "73                      4.224326                         84.01  \n",
       "74                      4.155425                         83.94  \n",
       "\n",
       "[75 rows x 64 columns]"
      ]
     },
     "execution_count": 28,
     "metadata": {},
     "output_type": "execute_result"
    }
   ],
   "source": [
    "df"
   ]
  },
  {
   "cell_type": "code",
   "execution_count": 31,
   "metadata": {},
   "outputs": [],
   "source": [
    "df.to_csv('all_simple_rate_snn_training_histories.csv')"
   ]
  }
 ],
 "metadata": {
  "kernelspec": {
   "display_name": "Masters-Project-uJcOuMmr",
   "language": "python",
   "name": "python3"
  },
  "language_info": {
   "codemirror_mode": {
    "name": "ipython",
    "version": 3
   },
   "file_extension": ".py",
   "mimetype": "text/x-python",
   "name": "python",
   "nbconvert_exporter": "python",
   "pygments_lexer": "ipython3",
   "version": "3.10.9 (tags/v3.10.9:1dd9be6, Dec  6 2022, 20:01:21) [MSC v.1934 64 bit (AMD64)]"
  },
  "vscode": {
   "interpreter": {
    "hash": "42dcfe4d3ff455891dcc0edcfbcf5ccac60cdc0dc8dd9e15fc951f2fbb26b4f0"
   }
  }
 },
 "nbformat": 4,
 "nbformat_minor": 5
}
